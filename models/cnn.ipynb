{
 "cells": [
  {
   "cell_type": "code",
   "execution_count": 1,
   "metadata": {},
   "outputs": [],
   "source": [
    "import torch\n",
    "import torch.nn.functional as F\n",
    "import torch.optim as optim\n",
    "import torch.nn as nn\n",
    "import numpy as np\n",
    "import torchtext\n",
    "from torchtext.data import Iterator, BucketIterator\n",
    "from torchvision import transforms, utils\n",
    "import matplotlib.pyplot as plt \n",
    "from sklearn.metrics import confusion_matrix as cm\n",
    "from sklearn.metrics import f1_score as f1\n",
    "import pandas as pd\n",
    "import seaborn as sns"
   ]
  },
  {
   "cell_type": "code",
   "execution_count": 2,
   "metadata": {},
   "outputs": [],
   "source": [
    "batch_size = 300\n",
    "num_folds = 5\n",
    "\n",
    "def split_text(text):\n",
    "    return text.split(' ')\n",
    "\n",
    "def prepare_sequences():\n",
    "    tokenizer = split_text # the function above is the function we will be using to tokenize the text\n",
    "    TEXT = torchtext.data.ReversibleField(sequential=True, tokenize=tokenizer, lower=True)\n",
    "    LABEL = torchtext.data.Field(sequential=False, use_vocab=False) # sequential and use_vocab=False since no text (binary)\n",
    "    QID = torchtext.data.Field(sequential=False, use_vocab=False)\n",
    "    \n",
    "    train_datafields = [('',None),(\"question_text\", TEXT), (\"target\", LABEL)]\n",
    "    fold_names = ['train_fold{}.csv'.format(i) for i in range(1,num_folds+1)]\n",
    "    train_folds = []\n",
    "    for fold in fold_names:\n",
    "        train_folds.append(torchtext.data.TabularDataset( \n",
    "                # If we had a validation set as well, we would add an additional .splits(...)\n",
    "                path=fold, # the root directory where the data lies\n",
    "                format='csv',\n",
    "                # if your csv header has a header, make sure to pass this to ensure it doesn't get proceesed as data!\n",
    "                skip_header=True, \n",
    "                fields=train_datafields\n",
    "                )\n",
    "            )\n",
    "    test_datafields = [('qid', QID),(\"question_text\", TEXT)]\n",
    "    test = torchtext.data.TabularDataset( \n",
    "                    path='test.csv',\n",
    "                    format=\"csv\",\n",
    "                    skip_header=True,\n",
    "                    fields=test_datafields\n",
    "                    )\n",
    "    return TEXT, LABEL, train_folds, test\n",
    "\n",
    "TEXT, LABEL, train, test = prepare_sequences()\n",
    "vec = torchtext.vocab.Vectors('master_v2.txt')\n",
    "TEXT.build_vocab(*train,test, vectors=vec)\n",
    "\n",
    "emb_vecs = TEXT.vocab.vectors\n",
    "for i in range(len(emb_vecs)):\n",
    "    if len(emb_vecs[i, : ].nonzero()) == 0:\n",
    "        # std = 0.05 is based on the norm of average GloVE 100-dim word vectors\n",
    "        torch.nn.init.normal_(emb_vecs[i], mean=0, std=0.05)\n",
    "       \n",
    "train_fold_loader = []\n",
    "for fold in train:\n",
    "    train_fold_loader.append(BucketIterator(\n",
    "         fold, # we pass in the datasets we want the iterator to draw data from\n",
    "         batch_size=batch_size,\n",
    "         shuffle = True,\n",
    "         sort_key=lambda x: len(x.question_text), # the BucketIterator needs to be told what function it should use to group the data.\n",
    "         sort_within_batch=False, # sorting would add bias\n",
    "         repeat=False \n",
    "        )\n",
    "    )\n",
    "test_loader = BucketIterator(\n",
    "         test, # we pass in the datasets we want the iterator to draw data from\n",
    "         batch_size=batch_size,\n",
    "         sort_key=lambda x: len(x.question_text), # the BucketIterator needs to be told what function it should use to group the data.\n",
    "         sort_within_batch=False, # sorting would add bias\n",
    "         repeat=False \n",
    "        )"
   ]
  },
  {
   "cell_type": "code",
   "execution_count": 7,
   "metadata": {},
   "outputs": [],
   "source": [
    "def validation(loader, test_set, predictions):\n",
    "    accuracy = 0\n",
    "    num_batches = 0\n",
    "    act = np.array([])\n",
    "    pred = np.array([])\n",
    "    with torch.no_grad():\n",
    "        for batch in loader:\n",
    "            gpu = batch.question_text.to(device).long()\n",
    "            preds = cnn(gpu)\n",
    "            target = batch.target.numpy()\n",
    "            preds = preds.cpu().detach().numpy()\n",
    "            preds = preds >= 0.5\n",
    "            preds = preds.flatten()\n",
    "            total_correct = sum(target == preds)\n",
    "\n",
    "            act = np.concatenate((act, target))\n",
    "            pred = np.concatenate((pred, preds))\n",
    "\n",
    "            accuracy += total_correct\n",
    "            num_batches += 1\n",
    "            torch.cuda.empty_cache()\n",
    "            del gpu, target, preds\n",
    "        \n",
    "        count = 0\n",
    "        for batch in test_set:\n",
    "            qid = batch.qid\n",
    "            question = batch.question_text.to(device).long()\n",
    "            preds = cnn(question)\n",
    "            preds = preds.cpu().detach().numpy()\n",
    "            for idx, ID in enumerate(qid):\n",
    "                predictions[ID.item()].append(preds[idx])\n",
    "            torch.cuda.empty_cache()\n",
    "            del qid, question, preds\n",
    "            count+=1\n",
    "    \n",
    "    acc = accuracy / (num_batches * batch_size)\n",
    "    print('Accuracy ->',acc)\n",
    "    formula1 = f1(act, pred)\n",
    "    print('f1 ->',formula1)\n",
    "    tn,fp,fn,tp = cm(act, pred).ravel()\n",
    "    print('True positives -> {}\\nFalse positives -> {}\\nTrue negatives -> {}\\nFalse negatives -> {}\\n'.format(tp,fp,tn,fn))\n",
    "    return acc, formula1\n",
    "\n",
    "def plot():\n",
    "    plt.scatter([i for i in range(len(accuracy_fold))], f1_fold, label = 'F1 Training set')\n",
    "    a = 0\n",
    "    for r in f1_fold:\n",
    "        a += r\n",
    "    a /= len(f1_fold)\n",
    "    plt.plot([i for i in range(len(accuracy_fold))], [a for i in range(len(accuracy_fold))], label = 'Avg fold f1 = {0:.3f}'.format(float(a)))\n",
    "    plt.legend()\n",
    "    plt.title('5 Fold Cross-validation F1 score cnn')\n",
    "    plt.xlabel('Fold held out')\n",
    "    plt.ylabel('F1 Score')\n",
    "    plt.show()\n",
    "\n",
    "def train_model(batch):\n",
    "    cnn.zero_grad()\n",
    "    optimizer.zero_grad()\n",
    "    loss = 0\n",
    "    \n",
    "    gpu = batch.question_text.to(device).long()\n",
    "    target = batch.target.to(device).to(device).float()\n",
    "\n",
    "    predicted = cnn(gpu).view(-1)\n",
    "    loss = criterion(predicted, target)\n",
    "    loss.backward()\n",
    "    optimizer.step()\n",
    "    return loss.item()"
   ]
  },
  {
   "cell_type": "code",
   "execution_count": 4,
   "metadata": {},
   "outputs": [],
   "source": [
    "class CNN(nn.Module): \n",
    "    def __init__(self,  #num channels\n",
    "                 input_size,\n",
    "                 num_channels,\n",
    "                 kernel_size, #size of kernel\n",
    "                 pool_size, #size of max pooling kernel\n",
    "                 dropout\n",
    "                 ):\n",
    "        super(CNN, self).__init__()\n",
    "        self.kernel_size = kernel_size\n",
    "        self.pool_size = pool_size\n",
    "        self.num_channels = num_channels\n",
    "        self.dropout = dropout\n",
    "        self.max_features = 72\n",
    "        \n",
    "        self.emb = nn.Embedding(len(TEXT.vocab),input_size)\n",
    "        self.emb.weight = nn.Parameter(TEXT.vocab.vectors)\n",
    "        self.emb_dropout = nn.Dropout2d(dropout)\n",
    "        \n",
    "        self.conv = nn.Conv1d(self.max_features, \n",
    "                              self.num_channels,\n",
    "                              self.kernel_size)\n",
    "        \n",
    "        self.batch_norm = nn.BatchNorm1d(self.num_channels)\n",
    "        self.pool = nn.MaxPool1d(pool_size)\n",
    "        self.relu = nn.LeakyReLU()\n",
    "        \n",
    "        self.output_size = (input_size - int(self.kernel_size/2)*2)/self.pool_size\n",
    "        self.output_size = int(self.output_size*self.num_channels)\n",
    "        self.layer = nn.Linear(self.output_size,1)\n",
    "        self.sig = nn.Sigmoid()\n",
    "    \n",
    "    def forward(self, inpt):\n",
    "        #bid lstm layer\n",
    "        inpt = self.emb(inpt)\n",
    "        inpt = self.emb_dropout(inpt)\n",
    "        batch_size = inpt.shape[1]\n",
    "        inpt = inpt.permute(1,0,2)\n",
    "        #1D convolutional layer\n",
    "        inpt = self.conv(inpt)\n",
    "        inpt = self.relu(inpt)\n",
    "        inpt = self.batch_norm(inpt)\n",
    "        inpt = inpt.view(batch_size,-1)\n",
    "        temp = inpt.size()[1]\n",
    "        inpt = inpt.view(batch_size, 1,temp)\n",
    "        inpt = self.pool(inpt)\n",
    "        inpt = inpt.view(batch_size, -1)\n",
    "        inpt = self.layer(inpt)\n",
    "        inpt = self.sig(inpt)\n",
    "        return inpt"
   ]
  },
  {
   "cell_type": "code",
   "execution_count": 5,
   "metadata": {
    "scrolled": false
   },
   "outputs": [
    {
     "name": "stderr",
     "output_type": "stream",
     "text": [
      "\r",
      "  0%|          | 0/5 [00:00<?, ?it/s]"
     ]
    },
    {
     "name": "stdout",
     "output_type": "stream",
     "text": [
      "++++++++++++++++++++++++++++++++++++++++\n",
      "Fold -> 0\n",
      "\tEpoch 1/5\tAVG loss: 0.13199387719677216\tTotal loss:459.8666681535542\n",
      "\tEpoch 2/5\tAVG loss: 0.10776599828821065\tTotal loss:375.4567380361259\n",
      "\tEpoch 3/5\tAVG loss: 0.09214446499695665\tTotal loss:321.031316049397\n",
      "\tEpoch 4/5\tAVG loss: 0.07345527605272308\tTotal loss:255.9181817676872\n",
      "\tEpoch 5/5\tAVG loss: 0.055731657234605415\tTotal loss:194.16909380536526\n",
      "Accuracy -> 0.9524378109452736\n",
      "f1 -> 0.5819400257226021\n"
     ]
    },
    {
     "name": "stderr",
     "output_type": "stream",
     "text": [
      "\r",
      " 20%|██        | 1/5 [19:45<1:19:02, 1185.55s/it]"
     ]
    },
    {
     "name": "stdout",
     "output_type": "stream",
     "text": [
      "True positives -> 8597\n",
      "False positives -> 4787\n",
      "True negatives -> 240275\n",
      "False negatives -> 7565\n",
      "\n",
      "++++++++++++++++++++++++++++++++++++++++\n",
      "Fold -> 1\n",
      "\tEpoch 1/5\tAVG loss: 0.13278832955202505\tTotal loss:462.63454015925527\n",
      "\tEpoch 2/5\tAVG loss: 0.10784258338570356\tTotal loss:375.7235605157912\n",
      "\tEpoch 3/5\tAVG loss: 0.09163710011338257\tTotal loss:319.2636567950249\n",
      "\tEpoch 4/5\tAVG loss: 0.07297503395887128\tTotal loss:254.24501831270754\n",
      "\tEpoch 5/5\tAVG loss: 0.054549207150653846\tTotal loss:190.049437712878\n",
      "Accuracy -> 0.9513777267508611\n",
      "f1 -> 0.48039498045669615\n"
     ]
    },
    {
     "name": "stderr",
     "output_type": "stream",
     "text": [
      "\r",
      " 40%|████      | 2/5 [40:23<1:00:03, 1201.27s/it]"
     ]
    },
    {
     "name": "stdout",
     "output_type": "stream",
     "text": [
      "True positives -> 5838\n",
      "False positives -> 2305\n",
      "True negatives -> 242757\n",
      "False negatives -> 10324\n",
      "\n",
      "++++++++++++++++++++++++++++++++++++++++\n",
      "Fold -> 2\n",
      "\tEpoch 1/5\tAVG loss: 0.13308769376706825\tTotal loss:463.67752508446574\n",
      "\tEpoch 2/5\tAVG loss: 0.10819509566732684\tTotal loss:376.9517133049667\n",
      "\tEpoch 3/5\tAVG loss: 0.09249280714542187\tTotal loss:322.2449400946498\n",
      "\tEpoch 4/5\tAVG loss: 0.07357662798672161\tTotal loss:256.3409719057381\n",
      "\tEpoch 5/5\tAVG loss: 0.055171810971342036\tTotal loss:192.21858942415565\n",
      "Accuracy -> 0.9528434749330271\n",
      "f1 -> 0.5684685319613785\n"
     ]
    },
    {
     "name": "stderr",
     "output_type": "stream",
     "text": [
      "\r",
      " 60%|██████    | 3/5 [1:00:08<39:52, 1196.26s/it]"
     ]
    },
    {
     "name": "stdout",
     "output_type": "stream",
     "text": [
      "True positives -> 8066\n",
      "False positives -> 4150\n",
      "True negatives -> 240912\n",
      "False negatives -> 8096\n",
      "\n",
      "++++++++++++++++++++++++++++++++++++++++\n",
      "Fold -> 3\n",
      "\tEpoch 1/5\tAVG loss: 0.13212180942570712\tTotal loss:460.3123840391636\n",
      "\tEpoch 2/5\tAVG loss: 0.10727121557155037\tTotal loss:373.73291505128145\n",
      "\tEpoch 3/5\tAVG loss: 0.09146693496228155\tTotal loss:318.6708014085889\n",
      "\tEpoch 4/5\tAVG loss: 0.07248094917010905\tTotal loss:252.52362690865993\n",
      "\tEpoch 5/5\tAVG loss: 0.05440573110116857\tTotal loss:189.5495671564713\n",
      "Accuracy -> 0.9520665901262916\n",
      "f1 -> 0.5727425610049078\n"
     ]
    },
    {
     "name": "stderr",
     "output_type": "stream",
     "text": [
      "\r",
      " 80%|████████  | 4/5 [1:20:46<20:08, 1208.91s/it]"
     ]
    },
    {
     "name": "stdout",
     "output_type": "stream",
     "text": [
      "True positives -> 8344\n",
      "False positives -> 4631\n",
      "True negatives -> 240431\n",
      "False negatives -> 7818\n",
      "\n",
      "++++++++++++++++++++++++++++++++++++++++\n",
      "Fold -> 4\n",
      "\tEpoch 1/5\tAVG loss: 0.13368186078875846\tTotal loss:465.7476029880345\n",
      "\tEpoch 2/5\tAVG loss: 0.10757072605235432\tTotal loss:374.77640956640244\n",
      "\tEpoch 3/5\tAVG loss: 0.09177008781038935\tTotal loss:319.7269859313965\n",
      "\tEpoch 4/5\tAVG loss: 0.07294607466946428\tTotal loss:254.14412414841354\n",
      "\tEpoch 5/5\tAVG loss: 0.05400212505489083\tTotal loss:188.14340369123966\n",
      "Accuracy -> 0.9522081898201301\n",
      "f1 -> 0.5196222617849678\n"
     ]
    },
    {
     "name": "stderr",
     "output_type": "stream",
     "text": [
      "\r",
      "100%|██████████| 5/5 [1:41:25<00:00, 1217.96s/it]"
     ]
    },
    {
     "name": "stdout",
     "output_type": "stream",
     "text": [
      "True positives -> 6713\n",
      "False positives -> 2963\n",
      "True negatives -> 242099\n",
      "False negatives -> 9449\n",
      "\n"
     ]
    },
    {
     "name": "stderr",
     "output_type": "stream",
     "text": [
      "\n"
     ]
    },
    {
     "data": {
      "image/png": "[encoded data removed]",
      "text/plain": [
       "<Figure size 432x288 with 1 Axes>"
      ]
     },
     "metadata": {
      "needs_background": "light"
     },
     "output_type": "display_data"
    }
   ],
   "source": [
    "verbose = 100\n",
    "\n",
    "#Model parameters\n",
    "input_size = 300\n",
    "num_channels = 72\n",
    "kernel_size = 5\n",
    "pool_size = 100\n",
    "dropout = 0.1\n",
    "\n",
    "epoch = 5\n",
    "\n",
    "#Evaluation metrics for model\n",
    "accuracy_fold = []\n",
    "f1_fold = []\n",
    "avg_error = []\n",
    "preds = {i:[] for i in range(375806)}\n",
    "\n",
    "ngpu = 1\n",
    "device = torch.device(\"cuda: 0\" if(torch.cuda.is_available() and ngpu >= 1) else \"cpu\")\n",
    "\n",
    "from tqdm import tqdm\n",
    "for i in tqdm(range(num_folds)): \n",
    "    try:\n",
    "        cnn = CNN(input_size, num_channels, kernel_size, pool_size, dropout).cuda()\n",
    "    except:\n",
    "        cnn = CNN(input_size, num_channels, kernel_size, pool_size, dropout).cuda()\n",
    "\n",
    "    optimizer = optim.Adam(cnn.parameters())\n",
    "    criterion = nn.BCELoss()\n",
    "    \n",
    "    train_folds = []\n",
    "    \n",
    "    for j in range(num_folds): \n",
    "        if j != i:\n",
    "            train_folds.append(train_fold_loader[j])\n",
    "        else: \n",
    "            val_fold = train_fold_loader[j]\n",
    "    \n",
    "    cnn.train()\n",
    "    print('++++++++++++++++++++++++++++++++++++++++')\n",
    "    print('Fold -> {}'.format(i))\n",
    "    for e in range(1, epoch+1):\n",
    "        total_error = 0\n",
    "        num = 0\n",
    "        np.random.shuffle(train_folds)\n",
    "        for fold in train_folds:\n",
    "            for batch in fold:\n",
    "                loss = train_model(batch)\n",
    "                total_error += loss\n",
    "                torch.cuda.empty_cache()\n",
    "            num += 1\n",
    "            torch.cuda.empty_cache()\n",
    "        avg_loss = total_error/(len(train_folds)*len(train_folds[0]))\n",
    "        print('\\tEpoch {}/5\\tAVG loss: {}\\tTotal loss:{}'.format(e, avg_loss, total_error))\n",
    "        torch.cuda.empty_cache()\n",
    "        avg_error.append(avg_loss)\n",
    "    cnn.eval()\n",
    "    acc, f = validation(val_fold, test_loader, preds)\n",
    "    accuracy_fold.append(acc)\n",
    "    f1_fold.append(f)\n",
    "    torch.cuda.empty_cache()\n",
    "plot()"
   ]
  },
  {
   "cell_type": "code",
   "execution_count": 8,
   "metadata": {},
   "outputs": [
    {
     "data": {
      "image/png": "[encoded data removed]",
      "text/plain": [
       "<Figure size 432x288 with 1 Axes>"
      ]
     },
     "metadata": {
      "needs_background": "light"
     },
     "output_type": "display_data"
    }
   ],
   "source": [
    "plot()"
   ]
  },
  {
   "cell_type": "code",
   "execution_count": 6,
   "metadata": {},
   "outputs": [
    {
     "data": {
      "image/png": "[encoded data removed]",
      "text/plain": [
       "<Figure size 432x288 with 1 Axes>"
      ]
     },
     "metadata": {
      "needs_background": "light"
     },
     "output_type": "display_data"
    }
   ],
   "source": [
    "start = 0\n",
    "end = 5\n",
    "for i in range(5):\n",
    "    plt.plot([i for i in range(1,6)], avg_error[start:end], label = 'Train w/o fold {}'.format(i+1))\n",
    "    start = end\n",
    "    end += 5\n",
    "plt.title('Avg error training for each fold cnn')\n",
    "plt.legend()\n",
    "plt.ylabel('Binary corss entropy')\n",
    "plt.xlabel('Epoch')\n",
    "plt.show()"
   ]
  },
  {
   "cell_type": "code",
   "execution_count": 9,
   "metadata": {},
   "outputs": [],
   "source": [
    "with open('result_cnn.txt', mode = 'w') as f: \n",
    "    for key in preds.keys():\n",
    "        f.write(str(key))\n",
    "        for val in preds[key]:\n",
    "            f.write(' {}'.format(str(val)))\n",
    "        f.write('\\n')"
   ]
  },
  {
   "cell_type": "code",
   "execution_count": null,
   "metadata": {},
   "outputs": [],
   "source": [
    "predictions = {}\n",
    "for key in preds.keys(): \n",
    "    threshold = 0.8\n",
    "    temp = []\n",
    "    for val in preds[key]:\n",
    "        temp.append(val > threshold)\n",
    "    temp = sum(temp)\n",
    "    if temp > 2: \n",
    "        predictions[key] = 1\n",
    "    else:\n",
    "        predictions[key] = 0\n",
    "predictions = sorted(predictions.items())"
   ]
  },
  {
   "cell_type": "code",
   "execution_count": null,
   "metadata": {},
   "outputs": [],
   "source": [
    "predictions = [x[1] for x in predictions]\n",
    "qid = pd.read_csv('qid.csv')\n",
    "sub = {'qid':list(qid.qid), 'prediction':predictions}\n",
    "submission_ = pd.DataFrame.from_dict(sub)"
   ]
  },
  {
   "cell_type": "code",
   "execution_count": null,
   "metadata": {},
   "outputs": [],
   "source": [
    "actual = pd.read_csv('submission.csv')\n",
    "flagged = submission_[submission_.prediction == 1]\n",
    "act_flagged = actual[actual.prediction == 1]\n",
    "found = 0\n",
    "for i in act_flagged.index: \n",
    "    if submission_.prediction.iloc[i] == 1:\n",
    "        found += 1\n",
    "print(found)"
   ]
  },
  {
   "cell_type": "code",
   "execution_count": null,
   "metadata": {},
   "outputs": [],
   "source": [
    "with open('preds.txt', mode = 'w') as f: \n",
    "    f.write('import pandas as pd \\n')\n",
    "    f.write('pred = [')\n",
    "    count = 0\n",
    "    written = 0\n",
    "    #replace data -> pd dataframe\n",
    "    for ind in submission_.index: \n",
    "        if count < 40:\n",
    "            if submission_.prediction.iloc[ind]:\n",
    "                f.write('{},'.format(1))\n",
    "            else: \n",
    "                f.write('{},'.format(0))\n",
    "            count += 1\n",
    "            written += 1\n",
    "        else: \n",
    "            f.write('\\n')\n",
    "            if submission_.prediction.iloc[ind]:\n",
    "                f.write('{},'.format(1))\n",
    "            else: \n",
    "                f.write('{},'.format(0))\n",
    "            count = 0\n",
    "            written += 1\n",
    "    f.write(']\\n')\n",
    "    f.write('test = pd.read_csv(\\'../input/test.csv\\').qid\\n')\n",
    "    f.write('sub = {\\'qid\\':[], \\'prediction\\':[]}\\n')\n",
    "\n",
    "    f.write('for i in range(len(pred)):\\n')\n",
    "    f.write('\\tsub[\\'qid\\'].append(test.iloc[i])\\n')\n",
    "    f.write('\\tsub[\\'prediction\\'].append(pred[i])\\n')\n",
    "    f.write('sub = pd.DataFrame.from_dict(sub)\\n')\n",
    "    f.write('sub.to_csv(\\'submission.csv\\', index=False)')"
   ]
  }
 ],
 "metadata": {
  "kernelspec": {
   "display_name": "Python 3",
   "language": "python",
   "name": "python3"
  },
  "language_info": {
   "codemirror_mode": {
    "name": "ipython",
    "version": 3
   },
   "file_extension": ".py",
   "mimetype": "text/x-python",
   "name": "python",
   "nbconvert_exporter": "python",
   "pygments_lexer": "ipython3",
   "version": "3.7.0"
  }
 },
 "nbformat": 4,
 "nbformat_minor": 2
}
