{
 "cells": [
  {
   "cell_type": "code",
   "execution_count": 1,
   "metadata": {},
   "outputs": [],
   "source": [
    "import torch\n",
    "import torch.nn.functional as F\n",
    "import torch.optim as optim\n",
    "import torch.nn as nn\n",
    "import numpy as np\n",
    "import torchtext\n",
    "from torchtext.data import Iterator, BucketIterator\n",
    "from torchvision import transforms, utils\n",
    "import matplotlib.pyplot as plt \n",
    "from sklearn.metrics import confusion_matrix as cm\n",
    "from sklearn.metrics import f1_score as f1\n",
    "import pandas as pd\n",
    "import seaborn as sns"
   ]
  },
  {
   "cell_type": "code",
   "execution_count": 2,
   "metadata": {},
   "outputs": [
    {
     "name": "stderr",
     "output_type": "stream",
     "text": [
      "100%|█████████▉| 348774/348986 [01:22<00:00, 4865.03it/s]"
     ]
    }
   ],
   "source": [
    "batch_size = 300\n",
    "num_folds = 5\n",
    "\n",
    "def split_text(text):\n",
    "    return text.split(' ')\n",
    "\n",
    "def prepare_sequences():\n",
    "    tokenizer = split_text # the function above is the function we will be using to tokenize the text\n",
    "    TEXT = torchtext.data.ReversibleField(sequential=True, tokenize=tokenizer, lower=True)\n",
    "    LABEL = torchtext.data.Field(sequential=False, use_vocab=False) # sequential and use_vocab=False since no text (binary)\n",
    "    QID = torchtext.data.Field(sequential=False, use_vocab=False)\n",
    "    \n",
    "    train_datafields = [(\"question_text\", TEXT), (\"target\", LABEL)]\n",
    "    fold_names = ['train_fold{}.csv'.format(i) for i in range(1,num_folds+1)]\n",
    "    train_folds = []\n",
    "    for fold in fold_names:\n",
    "        train_folds.append(torchtext.data.TabularDataset( \n",
    "                # If we had a validation set as well, we would add an additional .splits(...)\n",
    "                path=fold, # the root directory where the data lies\n",
    "                format='csv',\n",
    "                # if your csv header has a header, make sure to pass this to ensure it doesn't get proceesed as data!\n",
    "                skip_header=True, \n",
    "                fields=train_datafields\n",
    "                )\n",
    "            )\n",
    "    test_datafields = [('qid', QID),(\"question_text\", TEXT)]\n",
    "    test = torchtext.data.TabularDataset( \n",
    "                    path='test.csv',\n",
    "                    format=\"csv\",\n",
    "                    skip_header=True,\n",
    "                    fields=test_datafields\n",
    "                    )\n",
    "    return TEXT, LABEL, train_folds, test\n",
    "\n",
    "TEXT, LABEL, train, test = prepare_sequences()\n",
    "vec = torchtext.vocab.Vectors('master_v2.txt')\n",
    "TEXT.build_vocab(*train,test, vectors=vec)\n",
    "\n",
    "emb_vecs = TEXT.vocab.vectors\n",
    "for i in range(len(emb_vecs)):\n",
    "    if len(emb_vecs[i, : ].nonzero()) == 0:\n",
    "        # std = 0.05 is based on the norm of average GloVE 100-dim word vectors\n",
    "        torch.nn.init.normal_(emb_vecs[i], mean=0, std=0.05)\n",
    "       \n",
    "train_fold_loader = []\n",
    "for fold in train:\n",
    "    train_fold_loader.append(BucketIterator(\n",
    "         fold, # we pass in the datasets we want the iterator to draw data from\n",
    "         batch_size=batch_size,\n",
    "         shuffle = True,\n",
    "         sort_key=lambda x: len(x.question_text), # the BucketIterator needs to be told what function it should use to group the data.\n",
    "         sort_within_batch=False, # sorting would add bias\n",
    "         repeat=False \n",
    "        )\n",
    "    )\n",
    "test_loader = BucketIterator(\n",
    "         test, # we pass in the datasets we want the iterator to draw data from\n",
    "         batch_size=batch_size,\n",
    "         sort_key=lambda x: len(x.question_text), # the BucketIterator needs to be told what function it should use to group the data.\n",
    "         sort_within_batch=False, # sorting would add bias\n",
    "         repeat=False \n",
    "        )"
   ]
  },
  {
   "cell_type": "code",
   "execution_count": 3,
   "metadata": {},
   "outputs": [],
   "source": [
    "def validation(loader, test_set, predictions):\n",
    "    accuracy = 0\n",
    "    num_batches = 0\n",
    "    act = np.array([])\n",
    "    pred = np.array([])\n",
    "    with torch.no_grad():\n",
    "        for batch in loader:\n",
    "            gpu = batch.question_text.to(device).long()\n",
    "            preds = lstm(gpu)\n",
    "            target = batch.target.numpy()\n",
    "            preds = preds.cpu().detach().numpy()\n",
    "            preds = preds >= 0.5\n",
    "            preds = preds.flatten()\n",
    "            total_correct = sum(target == preds)\n",
    "\n",
    "            act = np.concatenate((act, target))\n",
    "            pred = np.concatenate((pred, preds))\n",
    "\n",
    "            accuracy += total_correct\n",
    "            num_batches += 1\n",
    "            torch.cuda.empty_cache()\n",
    "            del gpu, target, preds\n",
    "        \n",
    "        count = 0\n",
    "        for batch in test_set:\n",
    "            qid = batch.qid\n",
    "            question = batch.question_text.to(device).long()\n",
    "            preds = lstm(question)\n",
    "            preds = preds.cpu().detach().numpy()\n",
    "            for idx, ID in enumerate(qid):\n",
    "                predictions[ID.item()].append(preds[idx])\n",
    "            torch.cuda.empty_cache()\n",
    "            del qid, question, preds\n",
    "            count+=1\n",
    "    \n",
    "    acc = accuracy / (num_batches * batch_size)\n",
    "    print('Accuracy ->',acc)\n",
    "    formula1 = f1(act, pred)\n",
    "    print('f1 ->',formula1)\n",
    "    tn,fp,fn,tp = cm(act, pred).ravel()\n",
    "    print('True positives -> {}\\nFalse positives -> {}\\nTrue negatives -> {}\\nFalse negatives -> {}\\n'.format(tp,fp,tn,fn))\n",
    "    return acc, formula1\n",
    "\n",
    "def plot():\n",
    "    plt.scatter([i for i in range(len(accuracy_fold))], f1_fold, label = 'F1 Training set')\n",
    "    a = 0\n",
    "    for r in f1_fold:\n",
    "        a += r\n",
    "    a /= len(f1_fold)\n",
    "    plt.plot([i for i in range(len(accuracy_fold))], [a for i in range(len(accuracy_fold))], label = 'Avg fold f1 = {0:.3f}'.format(float(a)))\n",
    "    plt.legend()\n",
    "    plt.title('5 Fold Cross-validation F1 score bilstm')\n",
    "    plt.xlabel('Fold held out')\n",
    "    plt.ylabel('F1 Score')\n",
    "    plt.show()\n",
    "\n",
    "def train_model(batch):\n",
    "    lstm.zero_grad()\n",
    "    optimizer.zero_grad()\n",
    "    loss = 0\n",
    "    \n",
    "    gpu = batch.question_text.to(device).long()\n",
    "    target = batch.target.to(device).to(device).float()\n",
    "\n",
    "    predicted = lstm(gpu).view(-1)\n",
    "    loss = criterion(predicted, target)\n",
    "    loss.backward()\n",
    "    optimizer.step()\n",
    "    return loss.item()"
   ]
  },
  {
   "cell_type": "code",
   "execution_count": 4,
   "metadata": {},
   "outputs": [],
   "source": [
    "class Lstm(nn.Module): \n",
    "    def __init__(self, \n",
    "                 input_size, #size of in vector\n",
    "                 hidden_size,\n",
    "                 num_layers,\n",
    "                 dropout\n",
    "                 ):\n",
    "        super(Lstm, self).__init__()\n",
    "        self.input_size = input_size\n",
    "        self.hidden_size = hidden_size\n",
    "        self.num_layers = num_layers\n",
    "        self.dropout = dropout\n",
    "        \n",
    "        self.emb = nn.Embedding(len(TEXT.vocab), self.input_size)\n",
    "        self.emb.weight = nn.Parameter(TEXT.vocab.vectors)\n",
    "        \n",
    "        self.emb_dropout = nn.Dropout2d(dropout)\n",
    "        self.lstm = nn.LSTM(self.input_size, \n",
    "                            self.hidden_size, \n",
    "                            num_layers = self.num_layers,\n",
    "                            dropout = self.dropout,\n",
    "                            bidirectional = True)\n",
    "        self.relu = nn.LeakyReLU()\n",
    "        self.layer = nn.Linear(self.hidden_size*2, 1)\n",
    "        self.sig = nn.Sigmoid()\n",
    "    \n",
    "    def forward(self, inpt): \n",
    "\n",
    "        inpt = self.emb(inpt)\n",
    "        inpt = self.emb_dropout(inpt)\n",
    "        batch_size = inpt.shape[1]\n",
    "        inpt,_ = self.lstm(inpt)\n",
    "        inpt = inpt[-1,:,:].view(batch_size,1, self.hidden_size * 2)\n",
    "        inpt = self.layer(inpt)\n",
    "        inpt = self.sig(inpt)\n",
    "        return inpt"
   ]
  },
  {
   "cell_type": "code",
   "execution_count": 5,
   "metadata": {
    "scrolled": false
   },
   "outputs": [
    {
     "name": "stderr",
     "output_type": "stream",
     "text": [
      "\n",
      "  0%|          | 0/5 [00:00<?, ?it/s]"
     ]
    },
    {
     "name": "stdout",
     "output_type": "stream",
     "text": [
      "++++++++++++++++++++++++++++++++++++++++\n",
      "Fold -> 0\n",
      "\tEpoch 1/5\tAVG loss: 0.14225792615694752\tTotal loss:495.62661473080516\n",
      "\tEpoch 2/5\tAVG loss: 0.1029135360693651\tTotal loss:358.550759665668\n",
      "\tEpoch 3/5\tAVG loss: 0.08975107495883644\tTotal loss:312.69274515658617\n",
      "\tEpoch 4/5\tAVG loss: 0.07751607228162453\tTotal loss:270.0659958291799\n",
      "\tEpoch 5/5\tAVG loss: 0.06639339590533909\tTotal loss:231.3145913342014\n",
      "Accuracy -> 0.9545847684653654\n",
      "f1 -> 0.6299934101107728\n",
      "True positives -> 10038\n",
      "False positives -> 5667\n",
      "True negatives -> 239395\n",
      "False negatives -> 6124\n",
      "\n"
     ]
    },
    {
     "name": "stderr",
     "output_type": "stream",
     "text": [
      "\n",
      " 20%|██        | 1/5 [39:12<2:36:49, 2352.47s/it]"
     ]
    },
    {
     "name": "stdout",
     "output_type": "stream",
     "text": [
      "++++++++++++++++++++++++++++++++++++++++\n",
      "Fold -> 1\n",
      "\tEpoch 1/5\tAVG loss: 0.13757635230769485\tTotal loss:479.3160114400089\n",
      "\tEpoch 2/5\tAVG loss: 0.10241978252830516\tTotal loss:356.8305223286152\n",
      "\tEpoch 3/5\tAVG loss: 0.0902876011641262\tTotal loss:314.5620024558157\n",
      "\tEpoch 4/5\tAVG loss: 0.07874771089845868\tTotal loss:274.35702477023005\n",
      "\tEpoch 5/5\tAVG loss: 0.06926958604868669\tTotal loss:241.3352377936244\n",
      "Accuracy -> 0.9541944125526215\n",
      "f1 -> 0.6404232804232804\n",
      "True positives -> 10591\n",
      "False positives -> 6322\n",
      "True negatives -> 238740\n",
      "False negatives -> 5571\n",
      "\n"
     ]
    },
    {
     "name": "stderr",
     "output_type": "stream",
     "text": [
      "\n",
      " 40%|████      | 2/5 [1:21:06<2:00:03, 2401.00s/it]"
     ]
    },
    {
     "name": "stdout",
     "output_type": "stream",
     "text": [
      "++++++++++++++++++++++++++++++++++++++++\n",
      "Fold -> 2\n",
      "\tEpoch 1/5\tAVG loss: 0.1499607249737282\tTotal loss:522.4631658084691\n",
      "\tEpoch 2/5\tAVG loss: 0.1035923474135752\tTotal loss:360.915738388896\n",
      "\tEpoch 3/5\tAVG loss: 0.08995039453708602\tTotal loss:313.3871745672077\n",
      "\tEpoch 4/5\tAVG loss: 0.07785362824819016\tTotal loss:271.2420408166945\n",
      "\tEpoch 5/5\tAVG loss: 0.06719254740662488\tTotal loss:234.09883516468108\n",
      "Accuracy -> 0.9536433218522771\n",
      "f1 -> 0.6226290873749882\n",
      "True positives -> 9930\n",
      "False positives -> 5805\n",
      "True negatives -> 239257\n",
      "False negatives -> 6232\n",
      "\n"
     ]
    },
    {
     "name": "stderr",
     "output_type": "stream",
     "text": [
      "\n",
      " 60%|██████    | 3/5 [2:03:36<1:21:31, 2445.78s/it]"
     ]
    },
    {
     "name": "stdout",
     "output_type": "stream",
     "text": [
      "++++++++++++++++++++++++++++++++++++++++\n",
      "Fold -> 3\n",
      "\tEpoch 1/5\tAVG loss: 0.13981582392242348\tTotal loss:487.11833054572344\n",
      "\tEpoch 2/5\tAVG loss: 0.10508633639137384\tTotal loss:366.12079598754644\n",
      "\tEpoch 3/5\tAVG loss: 0.0925178352067617\tTotal loss:322.33213786035776\n",
      "\tEpoch 4/5\tAVG loss: 0.0814950951940704\tTotal loss:283.9289116561413\n",
      "\tEpoch 5/5\tAVG loss: 0.07281021855452903\tTotal loss:253.67080144397914\n",
      "Accuracy -> 0.9549445082280903\n",
      "f1 -> 0.6256361017762843\n",
      "True positives -> 9774\n",
      "False positives -> 5309\n",
      "True negatives -> 239753\n",
      "False negatives -> 6388\n",
      "\n"
     ]
    },
    {
     "name": "stderr",
     "output_type": "stream",
     "text": [
      "\n",
      " 80%|████████  | 4/5 [2:45:15<41:01, 2461.49s/it]  "
     ]
    },
    {
     "name": "stdout",
     "output_type": "stream",
     "text": [
      "++++++++++++++++++++++++++++++++++++++++\n",
      "Fold -> 4\n",
      "\tEpoch 1/5\tAVG loss: 0.13815969528671007\tTotal loss:481.3483783788979\n",
      "\tEpoch 2/5\tAVG loss: 0.1031390176882837\tTotal loss:359.3363376259804\n",
      "\tEpoch 3/5\tAVG loss: 0.09030408338011679\tTotal loss:314.6194264963269\n",
      "\tEpoch 4/5\tAVG loss: 0.0790219130491716\tTotal loss:275.31234506331384\n",
      "\tEpoch 5/5\tAVG loss: 0.06907272480650624\tTotal loss:240.64937322586775\n",
      "Accuracy -> 0.953926521239954\n",
      "f1 -> 0.6318963660420321\n",
      "True positives -> 10268\n",
      "False positives -> 6069\n",
      "True negatives -> 238993\n",
      "False negatives -> 5894\n",
      "\n"
     ]
    },
    {
     "name": "stderr",
     "output_type": "stream",
     "text": [
      "\n",
      "100%|██████████| 5/5 [3:27:19<00:00, 2480.38s/it]\n"
     ]
    },
    {
     "data": {
      "image/png": "[encoded data removed]",
      "text/plain": [
       "<Figure size 432x288 with 1 Axes>"
      ]
     },
     "metadata": {
      "needs_background": "light"
     },
     "output_type": "display_data"
    }
   ],
   "source": [
    "verbose = 100\n",
    "\n",
    "#Model parameters\n",
    "input_size = 300\n",
    "hidden_dim = 300\n",
    "num_layers = 2\n",
    "dropout = 0.1\n",
    "\n",
    "epoch = 5\n",
    "\n",
    "#Evaluation metrics for model\n",
    "accuracy_fold = []\n",
    "f1_fold = []\n",
    "avg_error = []\n",
    "preds = {i:[] for i in range(375806)}\n",
    "\n",
    "ngpu = 1\n",
    "device = torch.device(\"cuda: 0\" if(torch.cuda.is_available() and ngpu >= 1) else \"cpu\")\n",
    "\n",
    "from tqdm import tqdm\n",
    "for i in tqdm(range(num_folds)): \n",
    "    try:\n",
    "        lstm = Lstm(input_size, hidden_dim, num_layers,dropout).cuda()\n",
    "    except:\n",
    "        lstm = Lstm(input_size, hidden_dim, num_layers, dropout).cuda()\n",
    "\n",
    "    optimizer = optim.Adam(lstm.parameters())\n",
    "    criterion = nn.BCELoss()\n",
    "    \n",
    "    train_folds = []\n",
    "    \n",
    "    for j in range(num_folds): \n",
    "        if j != i:\n",
    "            train_folds.append(train_fold_loader[j])\n",
    "        else: \n",
    "            val_fold = train_fold_loader[j]\n",
    "    lstm.train()\n",
    "    print('++++++++++++++++++++++++++++++++++++++++')\n",
    "    print('Fold -> {}'.format(i))\n",
    "    for e in range(1, epoch+1):\n",
    "        total_error = 0\n",
    "        num = 0\n",
    "        np.random.shuffle(train_folds)\n",
    "        for fold in train_folds:\n",
    "            for batch in fold:\n",
    "                loss = train_model(batch)\n",
    "                total_error += loss\n",
    "                torch.cuda.empty_cache()\n",
    "            num += 1\n",
    "            torch.cuda.empty_cache()\n",
    "        avg_loss = total_error/(len(train_folds)*len(train_folds[0]))\n",
    "        print('\\tEpoch {}/5\\tAVG loss: {}\\tTotal loss:{}'.format(e, avg_loss, total_error))\n",
    "        torch.cuda.empty_cache()\n",
    "        avg_error.append(avg_loss)\n",
    "    lstm.eval()\n",
    "    acc, f = validation(val_fold, test_loader, preds)\n",
    "    accuracy_fold.append(acc)\n",
    "    f1_fold.append(f)\n",
    "    torch.cuda.empty_cache()\n",
    "plot()"
   ]
  },
  {
   "cell_type": "code",
   "execution_count": 6,
   "metadata": {},
   "outputs": [
    {
     "data": {
      "image/png": "[encoded data removed]",
      "text/plain": [
       "<Figure size 432x288 with 1 Axes>"
      ]
     },
     "metadata": {
      "needs_background": "light"
     },
     "output_type": "display_data"
    }
   ],
   "source": [
    "plot()"
   ]
  },
  {
   "cell_type": "code",
   "execution_count": 7,
   "metadata": {},
   "outputs": [
    {
     "data": {
      "image/png": "[encoded data removed]",
      "text/plain": [
       "<Figure size 432x288 with 1 Axes>"
      ]
     },
     "metadata": {
      "needs_background": "light"
     },
     "output_type": "display_data"
    }
   ],
   "source": [
    "start = 0\n",
    "end = 5\n",
    "for i in range(5):\n",
    "    plt.plot([i for i in range(1,6)], avg_error[start:end], label = 'Train w/o fold {}'.format(i+1))\n",
    "    start = end\n",
    "    end+=5\n",
    "plt.title('Avg error training for each fold bilstm')\n",
    "plt.legend()\n",
    "plt.ylabel('Binary corss entropy')\n",
    "plt.xlabel('Epoch')\n",
    "plt.show()"
   ]
  },
  {
   "cell_type": "code",
   "execution_count": 9,
   "metadata": {},
   "outputs": [],
   "source": [
    "with open('results_lstm_baseline.txt', mode = 'w') as f: \n",
    "    for key in preds.keys():\n",
    "        f.write(str(key))\n",
    "        for val in preds[key]:\n",
    "            f.write(' {}'.format(str(val)))\n",
    "        f.write('\\n')"
   ]
  },
  {
   "cell_type": "code",
   "execution_count": null,
   "metadata": {},
   "outputs": [],
   "source": [
    "predictions = {}\n",
    "for key in preds.keys(): \n",
    "    threshold = 0.8\n",
    "    temp = []\n",
    "    for val in preds[key]:\n",
    "        temp.append(val > threshold)\n",
    "    temp = sum(temp)\n",
    "    if temp > 2: \n",
    "        predictions[key] = 1\n",
    "    else:\n",
    "        predictions[key] = 0\n",
    "predictions = sorted(predictions.items())"
   ]
  },
  {
   "cell_type": "code",
   "execution_count": null,
   "metadata": {},
   "outputs": [],
   "source": [
    "actual = pd.read_csv('submission.csv')\n",
    "flagged = submission_[submission_.prediction == 1]\n",
    "act_flagged = actual[actual.prediction == 1]\n",
    "found = 0\n",
    "for i in act_flagged.index: \n",
    "    if submission_.prediction.iloc[i] == 1:\n",
    "        found += 1\n",
    "print(found)"
   ]
  },
  {
   "cell_type": "code",
   "execution_count": null,
   "metadata": {},
   "outputs": [],
   "source": [
    "with open('preds.txt', mode = 'w') as f: \n",
    "    f.write('import pandas as pd \\n')\n",
    "    f.write('pred = [')\n",
    "    count = 0\n",
    "    written = 0\n",
    "    #replace data -> pd dataframe\n",
    "    for ind in submission_.index: \n",
    "        if count < 40:\n",
    "            if submission_.prediction.iloc[ind]:\n",
    "                f.write('{},'.format(1))\n",
    "            else: \n",
    "                f.write('{},'.format(0))\n",
    "            count += 1\n",
    "            written += 1\n",
    "        else: \n",
    "            f.write('\\n')\n",
    "            if submission_.prediction.iloc[ind]:\n",
    "                f.write('{},'.format(1))\n",
    "            else: \n",
    "                f.write('{},'.format(0))\n",
    "            count = 0\n",
    "            written += 1\n",
    "    f.write(']\\n')\n",
    "    f.write('test = pd.read_csv(\\'../input/test.csv\\').qid\\n')\n",
    "    f.write('sub = {\\'qid\\':[], \\'prediction\\':[]}\\n')\n",
    "\n",
    "    f.write('for i in range(len(pred)):\\n')\n",
    "    f.write('\\tsub[\\'qid\\'].append(test.iloc[i])\\n')\n",
    "    f.write('\\tsub[\\'prediction\\'].append(pred[i])\\n')\n",
    "    f.write('sub = pd.DataFrame.from_dict(sub)\\n')\n",
    "    f.write('sub.to_csv(\\'submission.csv\\', index=False)')"
   ]
  }
 ],
 "metadata": {
  "kernelspec": {
   "display_name": "Python 3",
   "language": "python",
   "name": "python3"
  },
  "language_info": {
   "codemirror_mode": {
    "name": "ipython",
    "version": 3
   },
   "file_extension": ".py",
   "mimetype": "text/x-python",
   "name": "python",
   "nbconvert_exporter": "python",
   "pygments_lexer": "ipython3",
   "version": "3.7.0"
  }
 },
 "nbformat": 4,
 "nbformat_minor": 2
}
