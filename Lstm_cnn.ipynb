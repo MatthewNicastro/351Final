{
 "cells": [
  {
   "cell_type": "code",
   "execution_count": 1,
   "metadata": {},
   "outputs": [],
   "source": [
    "import torch\n",
    "import torch.nn.functional as F\n",
    "import torch.optim as optim\n",
    "import torch.nn as nn\n",
    "import numpy as np\n",
    "import torchtext\n",
    "from torchtext.data import Iterator, BucketIterator\n",
    "from torchvision import transforms, utils\n",
    "import matplotlib.pyplot as plt \n",
    "from sklearn.metrics import confusion_matrix as cm\n",
    "from sklearn.metrics import f1_score as f1\n",
    "import pandas as pd\n",
    "import seaborn as sns"
   ]
  },
  {
   "cell_type": "code",
   "execution_count": 2,
   "metadata": {},
   "outputs": [],
   "source": [
    "batch_size = 300\n",
    "num_folds = 5\n",
    "\n",
    "def split_text(text):\n",
    "    return text.split(' ')\n",
    "\n",
    "def prepare_sequences():\n",
    "    tokenizer = split_text # the function above is the function we will be using to tokenize the text\n",
    "    TEXT = torchtext.data.ReversibleField(sequential=True, tokenize=tokenizer, lower=True)\n",
    "    LABEL = torchtext.data.Field(sequential=False, use_vocab=False) # sequential and use_vocab=False since no text (binary)\n",
    "    QID = torchtext.data.Field(sequential=False, use_vocab=False)\n",
    "    \n",
    "    train_datafields = [(\"question_text\", TEXT), (\"target\", LABEL)]\n",
    "    fold_names = ['train_fold{}.csv'.format(i) for i in range(1,num_folds+1)]\n",
    "    train_folds = []\n",
    "    for fold in fold_names:\n",
    "        train_folds.append(torchtext.data.TabularDataset( \n",
    "                # If we had a validation set as well, we would add an additional .splits(...)\n",
    "                path=fold, # the root directory where the data lies\n",
    "                format='csv',\n",
    "                # if your csv header has a header, make sure to pass this to ensure it doesn't get proceesed as data!\n",
    "                skip_header=True, \n",
    "                fields=train_datafields\n",
    "                )\n",
    "            )\n",
    "    test_datafields = [('qid', QID),(\"question_text\", TEXT)]\n",
    "    test = torchtext.data.TabularDataset( \n",
    "                    path='test.csv',\n",
    "                    format=\"csv\",\n",
    "                    skip_header=True,\n",
    "                    fields=test_datafields\n",
    "                    )\n",
    "    return TEXT, LABEL, train_folds, test\n",
    "\n",
    "TEXT, LABEL, train, test = prepare_sequences()\n",
    "vec = torchtext.vocab.Vectors('master_v2.txt')\n",
    "TEXT.build_vocab(*train,test, vectors=vec)\n",
    "\n",
    "emb_vecs = TEXT.vocab.vectors\n",
    "for i in range(len(emb_vecs)):\n",
    "    if len(emb_vecs[i, : ].nonzero()) == 0:\n",
    "        # std = 0.05 is based on the norm of average GloVE 100-dim word vectors\n",
    "        torch.nn.init.normal_(emb_vecs[i], mean=0, std=0.05)\n",
    "       \n",
    "train_fold_loader = []\n",
    "for fold in train:\n",
    "    train_fold_loader.append(BucketIterator(\n",
    "         fold, # we pass in the datasets we want the iterator to draw data from\n",
    "         batch_size=batch_size,\n",
    "         shuffle = True,\n",
    "         sort_key=lambda x: len(x.question_text), # the BucketIterator needs to be told what function it should use to group the data.\n",
    "         sort_within_batch=False, # sorting would add bias\n",
    "         repeat=False \n",
    "        )\n",
    "    )\n",
    "test_loader = BucketIterator(\n",
    "         test, # we pass in the datasets we want the iterator to draw data from\n",
    "         batch_size=batch_size,\n",
    "         sort_key=lambda x: len(x.question_text), # the BucketIterator needs to be told what function it should use to group the data.\n",
    "         sort_within_batch=False, # sorting would add bias\n",
    "         repeat=False \n",
    "        )"
   ]
  },
  {
   "cell_type": "code",
   "execution_count": 10,
   "metadata": {},
   "outputs": [],
   "source": [
    "def validation(loader, test_set, predictions):\n",
    "    accuracy = 0\n",
    "    num_batches = 0\n",
    "    act = np.array([])\n",
    "    pred = np.array([])\n",
    "    with torch.no_grad():\n",
    "        for batch in loader:\n",
    "            gpu = batch.question_text.to(device).long()\n",
    "            preds = bid_lstm_cnn(gpu)\n",
    "            target = batch.target.numpy()\n",
    "            preds = preds.cpu().detach().numpy()\n",
    "            preds = preds >= 0.5\n",
    "            preds = preds.flatten()\n",
    "            total_correct = sum(target == preds)\n",
    "\n",
    "            act = np.concatenate((act, target))\n",
    "            pred = np.concatenate((pred, preds))\n",
    "\n",
    "            accuracy += total_correct\n",
    "            num_batches += 1\n",
    "            torch.cuda.empty_cache()\n",
    "            del gpu, target, preds\n",
    "        count = 0\n",
    "        for batch in test_set:\n",
    "            qid = batch.qid\n",
    "            question = batch.question_text.to(device).long()\n",
    "            preds = bid_lstm_cnn(question)\n",
    "            preds = preds.cpu().detach().numpy()\n",
    "            for idx, ID in enumerate(qid):\n",
    "                predictions[ID.item()].append(preds[idx])\n",
    "            torch.cuda.empty_cache()\n",
    "            del qid, question, preds\n",
    "            count+=1\n",
    "    acc = accuracy / (num_batches * batch_size)\n",
    "    print('Accuracy ->',acc)\n",
    "    formula1 = f1(act, pred)\n",
    "    print('f1 ->',formula1)\n",
    "    tn,fp,fn,tp = cm(act, pred).ravel()\n",
    "    print('True positives -> {}\\nFalse positives -> {}\\nTrue negatives -> {}\\nFalse negatives -> {}\\n'.format(tp,fp,tn,fn))\n",
    "    return acc, formula1\n",
    "\n",
    "def plot():\n",
    "    plt.scatter([i for i in range(len(accuracy_fold))], f1_fold, label = 'F1 Training set')\n",
    "    a = 0\n",
    "    for r in f1_fold:\n",
    "        a += r\n",
    "    a /= len(f1_fold)\n",
    "    plt.plot([i for i in range(len(accuracy_fold))], [a for i in range(len(accuracy_fold))], label = 'Avg fold f1 = {0:.3f}'.format(float(a)))\n",
    "    plt.legend()\n",
    "    plt.title('5 Fold Cross-validation F1 score bilstm cnn')\n",
    "    plt.xlabel('Fold held out')\n",
    "    plt.ylabel('F1 Score')\n",
    "    plt.show()\n",
    "\n",
    "def train_model(batch):\n",
    "    bid_lstm_cnn.zero_grad()\n",
    "    optimizer.zero_grad()\n",
    "    loss = 0\n",
    "    \n",
    "    gpu = batch.question_text.to(device).long()\n",
    "    target = batch.target.to(device).to(device).float()\n",
    "\n",
    "    predicted = bid_lstm_cnn(gpu).view(-1)\n",
    "    loss = criterion(predicted, target)\n",
    "    loss.backward()\n",
    "    optimizer.step()\n",
    "    return loss.item()"
   ]
  },
  {
   "cell_type": "code",
   "execution_count": 4,
   "metadata": {},
   "outputs": [],
   "source": [
    "class bidirec_lstm_1dcnn(nn.Module): \n",
    "    def __init__(self, \n",
    "                 input_size, #size of in vector\n",
    "                 hidden_size,\n",
    "                 num_layers,\n",
    "                 num_channels, #num channels\n",
    "                 kernel_size, #size of kernel\n",
    "                 pool_size, #size of max pooling kernel\n",
    "                 dropout\n",
    "                 ):\n",
    "        super(bidirec_lstm_1dcnn, self).__init__()\n",
    "        self.input_size = input_size\n",
    "        self.hidden_size = hidden_size\n",
    "        self.num_layers = num_layers\n",
    "        self.num_channels = num_channels\n",
    "        self.kernel_size = kernel_size\n",
    "        self.pool_size = pool_size\n",
    "        self.dropout = dropout\n",
    "        \n",
    "        self.emb = nn.Embedding(len(TEXT.vocab), self.input_size)\n",
    "        self.emb.weight = nn.Parameter(TEXT.vocab.vectors)\n",
    "        \n",
    "        self.emb_dropout = nn.Dropout2d(dropout)\n",
    "        self.lstm = nn.LSTM(self.input_size, \n",
    "                            self.hidden_size, \n",
    "                            num_layers = self.num_layers,\n",
    "                            dropout = self.dropout,\n",
    "                            bidirectional = True)\n",
    "        \n",
    "        self.conv = nn.Conv1d(1, \n",
    "                              num_channels,\n",
    "                              kernel_size)\n",
    "        self.batch_norm = nn.BatchNorm1d(self.num_channels)\n",
    "        self.pool = nn.MaxPool1d(pool_size)\n",
    "        self.relu = nn.LeakyReLU()\n",
    "        # 2 for bi direction\n",
    "        self.output_size = 2*(self.hidden_size - self.kernel_size)/self.pool_size\n",
    "        self.output_size = int(self.output_size*self.num_channels+2)\n",
    "        self.layer = nn.Linear(self.output_size, 1)\n",
    "        self.sig = nn.Sigmoid()\n",
    "    \n",
    "    def forward(self, inpt): \n",
    "        #bid lstm layer\n",
    "        inpt = self.emb(inpt)\n",
    "        inpt = self.emb_dropout(inpt)\n",
    "        batch_size = inpt.shape[1]\n",
    "        inpt,_ = self.lstm(inpt)\n",
    "        \n",
    "        #formating output from lstm to be of id conv size\n",
    "        inpt = inpt[-1,:,:].view(batch_size,1, self.hidden_size * 2)\n",
    "        \n",
    "        #1D convolutional layer\n",
    "        inpt = self.conv(inpt)\n",
    "        inpt = self.relu(inpt)\n",
    "        inpt = self.batch_norm(inpt)\n",
    "        inpt = inpt.view(batch_size,-1)\n",
    "        temp = inpt.size()[1]\n",
    "        inpt = inpt.view(batch_size, 1,temp)\n",
    "        inpt = self.pool(inpt)\n",
    "        inpt = inpt.view(batch_size, -1)\n",
    "        inpt = self.layer(inpt)\n",
    "        inpt = self.sig(inpt)\n",
    "        return inpt"
   ]
  },
  {
   "cell_type": "code",
   "execution_count": 5,
   "metadata": {
    "scrolled": false
   },
   "outputs": [
    {
     "name": "stderr",
     "output_type": "stream",
     "text": [
      "\r",
      "  0%|          | 0/5 [00:00<?, ?it/s]"
     ]
    },
    {
     "name": "stdout",
     "output_type": "stream",
     "text": [
      "++++++++++++++++++++++++++++++++++++++++\n",
      "Fold -> 0\n",
      "\tEpoch 1/8\tAVG loss: 0.2304555800851396\tTotal loss:802.9072410166264\n",
      "\tEpoch 2/8\tAVG loss: 0.21963010738624086\tTotal loss:765.1912941336632\n",
      "\tEpoch 3/8\tAVG loss: 0.11368035375601457\tTotal loss:396.06235248595476\n",
      "\tEpoch 4/8\tAVG loss: 0.09707816214708079\tTotal loss:338.22031692042947\n",
      "\tEpoch 5/8\tAVG loss: 0.08454183220700816\tTotal loss:294.5437434092164\n",
      "Accuracy -> 0.9573517030233448\n",
      "f1 -> 0.6401820546163848\n"
     ]
    },
    {
     "name": "stderr",
     "output_type": "stream",
     "text": [
      "\r",
      " 20%|██        | 1/5 [31:16<2:05:06, 1876.50s/it]"
     ]
    },
    {
     "name": "stdout",
     "output_type": "stream",
     "text": [
      "True positives -> 9846\n",
      "False positives -> 4752\n",
      "True negatives -> 240310\n",
      "False negatives -> 6316\n",
      "\n",
      "++++++++++++++++++++++++++++++++++++++++\n",
      "Fold -> 1\n",
      "\tEpoch 1/8\tAVG loss: 0.13145502938661216\tTotal loss:457.98932238295674\n",
      "\tEpoch 2/8\tAVG loss: 0.10437627860807934\tTotal loss:363.64695467054844\n",
      "\tEpoch 3/8\tAVG loss: 0.09115561505888688\tTotal loss:317.5861628651619\n",
      "\tEpoch 4/8\tAVG loss: 0.0793269697542545\tTotal loss:276.3751626238227\n",
      "\tEpoch 5/8\tAVG loss: 0.06838850363293485\tTotal loss:238.26554665714502\n",
      "Accuracy -> 0.9558055874473785\n",
      "f1 -> 0.6403310759969902\n"
     ]
    },
    {
     "name": "stderr",
     "output_type": "stream",
     "text": [
      "\r",
      " 40%|████      | 2/5 [1:03:50<1:34:59, 1899.88s/it]"
     ]
    },
    {
     "name": "stdout",
     "output_type": "stream",
     "text": [
      "True positives -> 10212\n",
      "False positives -> 5522\n",
      "True negatives -> 239540\n",
      "False negatives -> 5950\n",
      "\n",
      "++++++++++++++++++++++++++++++++++++++++\n",
      "Fold -> 2\n",
      "\tEpoch 1/8\tAVG loss: 0.1683908005145589\tTotal loss:586.6735489927232\n",
      "\tEpoch 2/8\tAVG loss: 0.108828213800442\tTotal loss:379.1574968807399\n",
      "\tEpoch 3/8\tAVG loss: 0.09611573980759773\tTotal loss:334.8672374896705\n",
      "\tEpoch 4/8\tAVG loss: 0.08500939935935505\tTotal loss:296.172747367993\n",
      "\tEpoch 5/8\tAVG loss: 0.07367079920668998\tTotal loss:256.6690644361079\n",
      "Accuracy -> 0.9547455032529659\n",
      "f1 -> 0.632096445905746\n"
     ]
    },
    {
     "name": "stderr",
     "output_type": "stream",
     "text": [
      "\r",
      " 60%|██████    | 3/5 [1:36:24<1:03:52, 1916.11s/it]"
     ]
    },
    {
     "name": "stdout",
     "output_type": "stream",
     "text": [
      "True positives -> 10093\n",
      "False positives -> 5680\n",
      "True negatives -> 239382\n",
      "False negatives -> 6069\n",
      "\n",
      "++++++++++++++++++++++++++++++++++++++++\n",
      "Fold -> 3\n",
      "\tEpoch 1/8\tAVG loss: 0.22210625113853083\tTotal loss:773.8181789666414\n",
      "\tEpoch 2/8\tAVG loss: 0.11533385297940053\tTotal loss:401.8231437802315\n",
      "\tEpoch 3/8\tAVG loss: 0.0986626387512831\tTotal loss:343.7406334094703\n",
      "\tEpoch 4/8\tAVG loss: 0.08605034476152518\tTotal loss:299.7994011491537\n",
      "\tEpoch 5/8\tAVG loss: 0.07527079630106362\tTotal loss:262.24345431290567\n",
      "Accuracy -> 0.9551435132032147\n",
      "f1 -> 0.6379605160889165\n"
     ]
    },
    {
     "name": "stderr",
     "output_type": "stream",
     "text": [
      "\r",
      " 80%|████████  | 4/5 [2:08:47<32:04, 1924.09s/it]  "
     ]
    },
    {
     "name": "stdout",
     "output_type": "stream",
     "text": [
      "True positives -> 10260\n",
      "False positives -> 5743\n",
      "True negatives -> 239319\n",
      "False negatives -> 5902\n",
      "\n",
      "++++++++++++++++++++++++++++++++++++++++\n",
      "Fold -> 4\n",
      "\tEpoch 1/8\tAVG loss: 0.17862478171044321\tTotal loss:622.3287394791842\n",
      "\tEpoch 2/8\tAVG loss: 0.11033839965827258\tTotal loss:384.4189844094217\n",
      "\tEpoch 3/8\tAVG loss: 0.09734478317645949\tTotal loss:339.14922458678484\n",
      "\tEpoch 4/8\tAVG loss: 0.08612481744566464\tTotal loss:300.0588639806956\n",
      "\tEpoch 5/8\tAVG loss: 0.0761424169648999\tTotal loss:265.28018070571125\n",
      "Accuracy -> 0.9554611557596632\n",
      "f1 -> 0.6182646592709984\n"
     ]
    },
    {
     "name": "stderr",
     "output_type": "stream",
     "text": [
      "\r",
      "100%|██████████| 5/5 [2:41:15<00:00, 1931.32s/it]"
     ]
    },
    {
     "name": "stdout",
     "output_type": "stream",
     "text": [
      "True positives -> 9363\n",
      "False positives -> 4763\n",
      "True negatives -> 240299\n",
      "False negatives -> 6799\n",
      "\n"
     ]
    },
    {
     "name": "stderr",
     "output_type": "stream",
     "text": [
      "\n"
     ]
    },
    {
     "data": {
      "image/png": "[encoded data removed]",
      "text/plain": [
       "<Figure size 432x288 with 1 Axes>"
      ]
     },
     "metadata": {
      "needs_background": "light"
     },
     "output_type": "display_data"
    }
   ],
   "source": [
    "verbose = 100\n",
    "\n",
    "#Model parameters\n",
    "input_size = 300\n",
    "hidden_dim = 300\n",
    "num_layers = 2\n",
    "num_channels = 70\n",
    "kernel_size = 1\n",
    "pool_size = 100\n",
    "dropout = 0.1\n",
    "\n",
    "epoch = 5\n",
    "\n",
    "#Evaluation metrics for model\n",
    "accuracy_fold = []\n",
    "f1_fold = []\n",
    "avg_error = []\n",
    "preds = {i:[] for i in range(375806)}\n",
    "\n",
    "ngpu = 1\n",
    "device = torch.device(\"cuda: 0\" if(torch.cuda.is_available() and ngpu >= 1) else \"cpu\")\n",
    "\n",
    "from tqdm import tqdm\n",
    "for i in tqdm(range(num_folds)): \n",
    "    try:\n",
    "        bid_lstm_cnn = bidirec_lstm_1dcnn(input_size, hidden_dim, num_layers, num_channels, kernel_size, pool_size, dropout).cuda()\n",
    "    except:\n",
    "        bid_lstm_cnn = bidirec_lstm_1dcnn(input_size, hidden_dim, num_layers, num_channels, kernel_size, pool_size, dropout).cuda()\n",
    "\n",
    "    optimizer = optim.Adam(bid_lstm_cnn.parameters())\n",
    "    criterion = nn.BCELoss()\n",
    "    \n",
    "    train_folds = []\n",
    "    \n",
    "    for j in range(num_folds): \n",
    "        if j != i:\n",
    "            train_folds.append(train_fold_loader[j])\n",
    "        else: \n",
    "            val_fold = train_fold_loader[j]\n",
    "    bid_lstm_cnn.train()\n",
    "    print('++++++++++++++++++++++++++++++++++++++++')\n",
    "    print('Fold -> {}'.format(i))\n",
    "    for e in range(1, epoch+1):\n",
    "        total_error = 0\n",
    "        num = 0\n",
    "        np.random.shuffle(train_folds)\n",
    "        for fold in train_folds:\n",
    "            for batch in fold:\n",
    "                loss = train_model(batch)\n",
    "                total_error += loss\n",
    "                torch.cuda.empty_cache()\n",
    "            num += 1\n",
    "            torch.cuda.empty_cache()\n",
    "        avg_loss = total_error/(len(train_folds)*len(train_folds[0]))\n",
    "        print('\\tEpoch {}/8\\tAVG loss: {}\\tTotal loss:{}'.format(e, avg_loss, total_error))\n",
    "        torch.cuda.empty_cache()\n",
    "        avg_error.append(avg_loss)\n",
    "    bid_lstm_cnn.eval()\n",
    "    acc, f = validation(val_fold, test_loader, preds)\n",
    "    accuracy_fold.append(acc)\n",
    "    f1_fold.append(f)\n",
    "    torch.cuda.empty_cache()\n",
    "plot()"
   ]
  },
  {
   "cell_type": "code",
   "execution_count": 11,
   "metadata": {},
   "outputs": [
    {
     "data": {
      "image/png": "[encoded data removed]",
      "text/plain": [
       "<Figure size 432x288 with 1 Axes>"
      ]
     },
     "metadata": {
      "needs_background": "light"
     },
     "output_type": "display_data"
    }
   ],
   "source": [
    "plot()"
   ]
  },
  {
   "cell_type": "code",
   "execution_count": 6,
   "metadata": {},
   "outputs": [
    {
     "data": {
      "image/png": "[encoded data removed]",
      "text/plain": [
       "<Figure size 432x288 with 1 Axes>"
      ]
     },
     "metadata": {
      "needs_background": "light"
     },
     "output_type": "display_data"
    }
   ],
   "source": [
    "start = 0\n",
    "end = 5\n",
    "for i in range(5):\n",
    "    plt.plot([i for i in range(1,6)], avg_error[start:end], label = 'Train w/o fold {}'.format(i+1))\n",
    "    start = end\n",
    "    end+=5\n",
    "plt.title('Avg error training for each fold bilstm cnn')\n",
    "plt.legend()\n",
    "plt.ylabel('Binary corss entropy')\n",
    "plt.xlabel('Epoch')\n",
    "plt.show()"
   ]
  },
  {
   "cell_type": "code",
   "execution_count": 7,
   "metadata": {},
   "outputs": [],
   "source": [
    "with open('results_lstm_cnn.txt', mode = 'w') as f: \n",
    "    for key in preds.keys():\n",
    "        f.write(str(key))\n",
    "        for val in preds[key]:\n",
    "            f.write(' {}'.format(str(val)))\n",
    "        f.write('\\n')"
   ]
  },
  {
   "cell_type": "code",
   "execution_count": null,
   "metadata": {},
   "outputs": [],
   "source": [
    "predictions = {}\n",
    "for key in preds.keys(): \n",
    "    threshold = 0.8\n",
    "    temp = []\n",
    "    for val in preds[key]:\n",
    "        temp.append(val > threshold)\n",
    "    temp = sum(temp)\n",
    "    if temp > 2: \n",
    "        predictions[key] = 1\n",
    "    else:\n",
    "        predictions[key] = 0\n",
    "predictions = sorted(predictions.items())"
   ]
  },
  {
   "cell_type": "code",
   "execution_count": null,
   "metadata": {},
   "outputs": [],
   "source": [
    "predictions = [x[1] for x in predictions]\n",
    "qid = pd.read_csv('data/qid.csv')\n",
    "sub = {'qid':list(qid.qid), 'prediction':predictions}\n",
    "submission_ = pd.DataFrame.from_dict(sub)"
   ]
  },
  {
   "cell_type": "code",
   "execution_count": null,
   "metadata": {},
   "outputs": [],
   "source": [
    "actual = pd.read_csv('submission.csv')\n",
    "flagged = submission_[submission_.prediction == 1]\n",
    "act_flagged = actual[actual.prediction == 1]\n",
    "found = 0\n",
    "for i in act_flagged.index: \n",
    "    if submission_.prediction.iloc[i] == 1:\n",
    "        found += 1\n",
    "print(found)"
   ]
  },
  {
   "cell_type": "code",
   "execution_count": null,
   "metadata": {},
   "outputs": [],
   "source": [
    "with open('preds.txt', mode = 'w') as f: \n",
    "    f.write('import pandas as pd \\n')\n",
    "    f.write('pred = [')\n",
    "    count = 0\n",
    "    written = 0\n",
    "    #replace data -> pd dataframe\n",
    "    for ind in submission_.index: \n",
    "        if count < 40:\n",
    "            if submission_.prediction.iloc[ind]:\n",
    "                f.write('{},'.format(1))\n",
    "            else: \n",
    "                f.write('{},'.format(0))\n",
    "            count += 1\n",
    "            written += 1\n",
    "        else: \n",
    "            f.write('\\n')\n",
    "            if submission_.prediction.iloc[ind]:\n",
    "                f.write('{},'.format(1))\n",
    "            else: \n",
    "                f.write('{},'.format(0))\n",
    "            count = 0\n",
    "            written += 1\n",
    "    f.write(']\\n')\n",
    "    f.write('test = pd.read_csv(\\'../input/test.csv\\').qid\\n')\n",
    "    f.write('sub = {\\'qid\\':[], \\'prediction\\':[]}\\n')\n",
    "\n",
    "    f.write('for i in range(len(pred)):\\n')\n",
    "    f.write('\\tsub[\\'qid\\'].append(test.iloc[i])\\n')\n",
    "    f.write('\\tsub[\\'prediction\\'].append(pred[i])\\n')\n",
    "    f.write('sub = pd.DataFrame.from_dict(sub)\\n')\n",
    "    f.write('sub.to_csv(\\'submission.csv\\', index=False)')"
   ]
  },
  {
   "cell_type": "code",
   "execution_count": null,
   "metadata": {},
   "outputs": [],
   "source": []
  }
 ],
 "metadata": {
  "kernelspec": {
   "display_name": "Python 3",
   "language": "python",
   "name": "python3"
  },
  "language_info": {
   "codemirror_mode": {
    "name": "ipython",
    "version": 3
   },
   "file_extension": ".py",
   "mimetype": "text/x-python",
   "name": "python",
   "nbconvert_exporter": "python",
   "pygments_lexer": "ipython3",
   "version": "3.6.7"
  }
 },
 "nbformat": 4,
 "nbformat_minor": 2
}
