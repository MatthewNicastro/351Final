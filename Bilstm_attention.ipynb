{
 "cells": [
  {
   "cell_type": "code",
   "execution_count": 1,
   "metadata": {},
   "outputs": [],
   "source": [
    "import torch\n",
    "import torch.nn.functional as F\n",
    "import torch.optim as optim\n",
    "import torch.nn as nn\n",
    "import numpy as np\n",
    "import torchtext\n",
    "from torchtext.data import Iterator, BucketIterator\n",
    "from torchvision import transforms, utils\n",
    "import matplotlib.pyplot as plt \n",
    "from sklearn.metrics import confusion_matrix as cm\n",
    "from sklearn.metrics import f1_score as f1\n",
    "import pandas as pd\n",
    "import seaborn as sns"
   ]
  },
  {
   "cell_type": "code",
   "execution_count": 2,
   "metadata": {},
   "outputs": [],
   "source": [
    "batch_size = 300\n",
    "num_folds = 5\n",
    "\n",
    "def split_text(text):\n",
    "    return text.split(' ')\n",
    "\n",
    "def prepare_sequences():\n",
    "    tokenizer = split_text # the function above is the function we will be using to tokenize the text\n",
    "    TEXT = torchtext.data.ReversibleField(sequential=True, tokenize=tokenizer, lower=True)\n",
    "    LABEL = torchtext.data.Field(sequential=False, use_vocab=False) # sequential and use_vocab=False since no text (binary)\n",
    "    QID = torchtext.data.Field(sequential=False, use_vocab=False)\n",
    "    \n",
    "    train_datafields = [(\"question_text\", TEXT), (\"target\", LABEL)]\n",
    "    fold_names = ['train_fold{}.csv'.format(i) for i in range(1,num_folds+1)]\n",
    "    train_folds = []\n",
    "    for fold in fold_names:\n",
    "        train_folds.append(torchtext.data.TabularDataset( \n",
    "                # If we had a validation set as well, we would add an additional .splits(...)\n",
    "                path=fold, # the root directory where the data lies\n",
    "                format='csv',\n",
    "                # if your csv header has a header, make sure to pass this to ensure it doesn't get proceesed as data!\n",
    "                skip_header=True, \n",
    "                fields=train_datafields\n",
    "                )\n",
    "            )\n",
    "    test_datafields = [('qid', QID),(\"question_text\", TEXT)]\n",
    "    test = torchtext.data.TabularDataset( \n",
    "                    path='test.csv',\n",
    "                    format=\"csv\",\n",
    "                    skip_header=True,\n",
    "                    fields=test_datafields\n",
    "                    )\n",
    "    return TEXT, LABEL, train_folds, test\n",
    "\n",
    "TEXT, LABEL, train, test = prepare_sequences()\n",
    "vec = torchtext.vocab.Vectors('master_v2.txt')\n",
    "TEXT.build_vocab(*train,test, vectors=vec)\n",
    "\n",
    "emb_vecs = TEXT.vocab.vectors\n",
    "for i in range(len(emb_vecs)):\n",
    "    if len(emb_vecs[i, : ].nonzero()) == 0:\n",
    "        # std = 0.05 is based on the norm of average GloVE 100-dim word vectors\n",
    "        torch.nn.init.normal_(emb_vecs[i], mean=0, std=0.05)\n",
    "       \n",
    "train_fold_loader = []\n",
    "for fold in train:\n",
    "    train_fold_loader.append(BucketIterator(\n",
    "         fold, # we pass in the datasets we want the iterator to draw data from\n",
    "         batch_size=batch_size,\n",
    "         shuffle = True,\n",
    "         sort_key=lambda x: len(x.question_text), # the BucketIterator needs to be told what function it should use to group the data.\n",
    "         sort_within_batch=False, # sorting would add bias\n",
    "         repeat=False \n",
    "        )\n",
    "    )\n",
    "test_loader = BucketIterator(\n",
    "         test, # we pass in the datasets we want the iterator to draw data from\n",
    "         batch_size=batch_size,\n",
    "         sort_key=lambda x: len(x.question_text), # the BucketIterator needs to be told what function it should use to group the data.\n",
    "         sort_within_batch=False, # sorting would add bias\n",
    "         repeat=False \n",
    "        )"
   ]
  },
  {
   "cell_type": "code",
   "execution_count": 3,
   "metadata": {},
   "outputs": [],
   "source": [
    "def validation(loader, test_set, predictions):\n",
    "    accuracy = 0\n",
    "    num_batches = 0\n",
    "    act = np.array([])\n",
    "    pred = np.array([])\n",
    "    with torch.no_grad():\n",
    "        for batch in loader:\n",
    "            gpu = batch.question_text.to(device).long()\n",
    "            preds = atn_lstm(gpu)\n",
    "            target = batch.target.numpy()\n",
    "            preds = preds.cpu().detach().numpy()\n",
    "            preds = preds >= 0.5\n",
    "            preds = preds.flatten()\n",
    "            total_correct = sum(target == preds)\n",
    "\n",
    "            act = np.concatenate((act, target))\n",
    "            pred = np.concatenate((pred, preds))\n",
    "\n",
    "            accuracy += total_correct\n",
    "            num_batches += 1\n",
    "            torch.cuda.empty_cache()\n",
    "            del gpu, target, preds\n",
    "        \n",
    "        count = 0\n",
    "        for batch in test_set:\n",
    "            qid = batch.qid\n",
    "            question = batch.question_text.to(device).long()\n",
    "            preds = atn_lstm(question)\n",
    "            preds = preds.cpu().detach().numpy()\n",
    "            for idx, ID in enumerate(qid):\n",
    "                predictions[ID.item()].append(preds[idx])\n",
    "            torch.cuda.empty_cache()\n",
    "            del qid, question, preds\n",
    "            count+=1\n",
    "    \n",
    "    acc = accuracy / (num_batches * batch_size)\n",
    "    print('Accuracy ->',acc)\n",
    "    formula1 = f1(act, pred)\n",
    "    print('f1 ->',formula1)\n",
    "    tn,fp,fn,tp = cm(act, pred).ravel()\n",
    "    print('True positives -> {}\\nFalse positives -> {}\\nTrue negatives -> {}\\nFalse negatives -> {}\\n'.format(tp,fp,tn,fn))\n",
    "    return acc, formula1\n",
    "\n",
    "def plot():\n",
    "    plt.scatter([i for i in range(len(accuracy_fold))], f1_fold, label = 'F1 Training set')\n",
    "    a = 0\n",
    "    for r in f1_fold:\n",
    "        a += r\n",
    "    a /= len(f1_fold)\n",
    "    plt.plot([i for i in range(len(accuracy_fold))], [a for i in range(len(accuracy_fold))], label = 'Avg fold f1 = {0:.3f}'.format(float(a)))\n",
    "    plt.legend()\n",
    "    plt.title('5 Fold Cross-validation F1 score Attention bilstm')\n",
    "    plt.xlabel('Fold held out')\n",
    "    plt.ylabel('F1 Score')\n",
    "    plt.show()\n",
    "\n",
    "def train_model(batch):\n",
    "    atn_lstm.zero_grad()\n",
    "    optimizer.zero_grad()\n",
    "    loss = 0\n",
    "    \n",
    "    gpu = batch.question_text.to(device).long()\n",
    "    target = batch.target.to(device).to(device).float()\n",
    "\n",
    "    predicted = atn_lstm(gpu).view(-1)\n",
    "    loss = criterion(predicted, target)\n",
    "    loss.backward()\n",
    "    optimizer.step()\n",
    "    return loss.item()"
   ]
  },
  {
   "cell_type": "code",
   "execution_count": 4,
   "metadata": {},
   "outputs": [],
   "source": [
    "class Attention(nn.Module):\n",
    "    def __init__(self, batch_size, size):\n",
    "        super(Attention, self).__init__()\n",
    "        self.word_weight = nn.Linear(size, size)\n",
    "        self.tanh = nn.Tanh()\n",
    "        self.context_weight = nn.Linear(size, 1, bias = False)\n",
    "        self.softmax = nn.Softmax(dim = 1)\n",
    "    \n",
    "    def forward(self, inpt):\n",
    "        inpt = inpt.permute(1,0,2)\n",
    "        a = self.word_weight(inpt)\n",
    "        a = self.tanh(a)\n",
    "        a = self.context_weight(a)\n",
    "        a = self.tanh(a)\n",
    "        a = self.softmax(a)\n",
    "        inpt = inpt * a\n",
    "        return torch.sum(inpt, 1)"
   ]
  },
  {
   "cell_type": "code",
   "execution_count": 5,
   "metadata": {},
   "outputs": [],
   "source": [
    "class attn_lstm(nn.Module): \n",
    "    def __init__(self, \n",
    "                 input_size, #size of in vector\n",
    "                 hidden_size,\n",
    "                 num_layers,\n",
    "                 dropout\n",
    "                 ):\n",
    "        super(attn_lstm, self).__init__()\n",
    "        self.input_size = input_size\n",
    "        self.hidden_size = hidden_size\n",
    "        self.num_layers = num_layers\n",
    "        self.dropout = dropout\n",
    "        \n",
    "        self.emb = nn.Embedding(len(TEXT.vocab), self.input_size)\n",
    "        self.emb.weight = nn.Parameter(TEXT.vocab.vectors)\n",
    "        \n",
    "        self.emb_dropout = nn.Dropout2d(dropout)\n",
    "        self.lstm = nn.LSTM(self.input_size, \n",
    "                            self.hidden_size, \n",
    "                            num_layers = self.num_layers,\n",
    "                            dropout = self.dropout,\n",
    "                            bidirectional = True)\n",
    "        self.attention = Attention(batch_size, self.hidden_size*2)\n",
    "        self.relu = nn.LeakyReLU()\n",
    "        self.layer = nn.Linear(self.hidden_size*2, 1)\n",
    "        self.sig = nn.Sigmoid()\n",
    "    \n",
    "    def forward(self, inpt): \n",
    "\n",
    "        inpt = self.emb(inpt)\n",
    "        inpt = self.emb_dropout(inpt)\n",
    "        batch_size = inpt.shape[1]\n",
    "        inpt,_ = self.lstm(inpt)\n",
    "        inpt = self.attention(inpt)\n",
    "        inpt = self.layer(inpt)\n",
    "        inpt = self.sig(inpt)\n",
    "        return inpt"
   ]
  },
  {
   "cell_type": "code",
   "execution_count": 6,
   "metadata": {
    "scrolled": true
   },
   "outputs": [
    {
     "name": "stderr",
     "output_type": "stream",
     "text": [
      "\r",
      "  0%|          | 0/5 [00:00<?, ?it/s]"
     ]
    },
    {
     "name": "stdout",
     "output_type": "stream",
     "text": [
      "++++++++++++++++++++++++++++++++++++++++\n",
      "Fold -> 0\n",
      "\tEpoch 1/5\tAVG loss: 0.12198299454283461\tTotal loss:424.9887529872358\n",
      "\tEpoch 2/5\tAVG loss: 0.09922721403748241\tTotal loss:345.70761370658875\n",
      "\tEpoch 3/5\tAVG loss: 0.08478810166379802\tTotal loss:295.4017461966723\n",
      "\tEpoch 4/5\tAVG loss: 0.07160279457911797\tTotal loss:249.46413631364703\n",
      "\tEpoch 5/5\tAVG loss: 0.05991197656145069\tTotal loss:208.7333263400942\n",
      "Accuracy -> 0.9536548029085342\n",
      "f1 -> 0.6232546490514057\n"
     ]
    },
    {
     "name": "stderr",
     "output_type": "stream",
     "text": [
      "\r",
      " 20%|██        | 1/5 [38:23<2:33:33, 2303.25s/it]"
     ]
    },
    {
     "name": "stdout",
     "output_type": "stream",
     "text": [
      "True positives -> 9954\n",
      "False positives -> 5826\n",
      "True negatives -> 239236\n",
      "False negatives -> 6208\n",
      "\n",
      "++++++++++++++++++++++++++++++++++++++++\n",
      "Fold -> 1\n",
      "\tEpoch 1/5\tAVG loss: 0.1217483919515915\tTotal loss:424.17139755934477\n",
      "\tEpoch 2/5\tAVG loss: 0.10266208109990121\tTotal loss:357.67469055205584\n",
      "\tEpoch 3/5\tAVG loss: 0.08989699253166601\tTotal loss:313.2011219803244\n",
      "\tEpoch 4/5\tAVG loss: 0.0775248905548657\tTotal loss:270.09671869315207\n",
      "\tEpoch 5/5\tAVG loss: 0.06565682742590712\tTotal loss:228.74838675186038\n",
      "Accuracy -> 0.955878300803674\n",
      "f1 -> 0.6374829867375684\n"
     ]
    },
    {
     "name": "stderr",
     "output_type": "stream",
     "text": [
      "\r",
      " 40%|████      | 2/5 [1:18:30<1:56:43, 2334.39s/it]"
     ]
    },
    {
     "name": "stdout",
     "output_type": "stream",
     "text": [
      "True positives -> 10070\n",
      "False positives -> 5361\n",
      "True negatives -> 239701\n",
      "False negatives -> 6092\n",
      "\n",
      "++++++++++++++++++++++++++++++++++++++++\n",
      "Fold -> 2\n",
      "\tEpoch 1/5\tAVG loss: 0.12000328905444195\tTotal loss:418.09145906567574\n",
      "\tEpoch 2/5\tAVG loss: 0.0983383713555271\tTotal loss:342.6108858026564\n",
      "\tEpoch 3/5\tAVG loss: 0.08411993869782418\tTotal loss:293.07386642321944\n",
      "\tEpoch 4/5\tAVG loss: 0.07130476207943927\tTotal loss:248.4257910847664\n",
      "\tEpoch 5/5\tAVG loss: 0.05977208935548728\tTotal loss:208.24595931451768\n",
      "Accuracy -> 0.954921546115576\n",
      "f1 -> 0.6265198659645763\n"
     ]
    },
    {
     "name": "stderr",
     "output_type": "stream",
     "text": [
      "\r",
      " 60%|██████    | 3/5 [1:58:38<1:18:33, 2356.53s/it]"
     ]
    },
    {
     "name": "stdout",
     "output_type": "stream",
     "text": [
      "True positives -> 9816\n",
      "False positives -> 5357\n",
      "True negatives -> 239705\n",
      "False negatives -> 6346\n",
      "\n",
      "++++++++++++++++++++++++++++++++++++++++\n",
      "Fold -> 3\n",
      "\tEpoch 1/5\tAVG loss: 0.1214266003052844\tTotal loss:423.0502754636109\n",
      "\tEpoch 2/5\tAVG loss: 0.10107926702411282\tTotal loss:352.1601663120091\n",
      "\tEpoch 3/5\tAVG loss: 0.08927700995338222\tTotal loss:311.0411026775837\n",
      "\tEpoch 4/5\tAVG loss: 0.07836479554113202\tTotal loss:273.02294766530395\n",
      "\tEpoch 5/5\tAVG loss: 0.0682673127926142\tTotal loss:237.84331776946783\n",
      "Accuracy -> 0.9556946039035591\n",
      "f1 -> 0.6142804440419894\n"
     ]
    },
    {
     "name": "stderr",
     "output_type": "stream",
     "text": [
      "\r",
      " 80%|████████  | 4/5 [2:38:45<39:31, 2371.55s/it]  "
     ]
    },
    {
     "name": "stdout",
     "output_type": "stream",
     "text": [
      "True positives -> 9158\n",
      "False positives -> 4497\n",
      "True negatives -> 240565\n",
      "False negatives -> 7004\n",
      "\n",
      "++++++++++++++++++++++++++++++++++++++++\n",
      "Fold -> 4\n",
      "\tEpoch 1/5\tAVG loss: 0.12051150378857736\tTotal loss:419.8620791994035\n",
      "\tEpoch 2/5\tAVG loss: 0.1021690605396467\tTotal loss:355.95700692012906\n",
      "\tEpoch 3/5\tAVG loss: 0.08956518489600135\tTotal loss:312.0451041776687\n",
      "\tEpoch 4/5\tAVG loss: 0.07734045134237127\tTotal loss:269.45413247682154\n",
      "\tEpoch 5/5\tAVG loss: 0.06622687601013885\tTotal loss:230.73443601932377\n",
      "Accuracy -> 0.9555951014159969\n",
      "f1 -> 0.6186774289589467\n"
     ]
    },
    {
     "name": "stderr",
     "output_type": "stream",
     "text": [
      "\r",
      "100%|██████████| 5/5 [3:18:54<00:00, 2382.89s/it]"
     ]
    },
    {
     "name": "stdout",
     "output_type": "stream",
     "text": [
      "True positives -> 9351\n",
      "False positives -> 4716\n",
      "True negatives -> 240346\n",
      "False negatives -> 6811\n",
      "\n"
     ]
    },
    {
     "name": "stderr",
     "output_type": "stream",
     "text": [
      "\n"
     ]
    },
    {
     "data": {
      "image/png": "[encoded data removed]",
      "text/plain": [
       "<Figure size 432x288 with 1 Axes>"
      ]
     },
     "metadata": {
      "needs_background": "light"
     },
     "output_type": "display_data"
    }
   ],
   "source": [
    "#batch_size for training\n",
    "verbose = 100\n",
    "\n",
    "#Model parameters\n",
    "input_size = 300\n",
    "hidden_dim = 300\n",
    "num_layers = 2\n",
    "dropout = 0.1\n",
    "\n",
    "epoch = 5\n",
    "\n",
    "#Evaluation metrics for model\n",
    "accuracy_fold = []\n",
    "f1_fold = []\n",
    "avg_error = []\n",
    "preds = {i:[] for i in range(375806)}\n",
    "\n",
    "ngpu = 1\n",
    "device = torch.device(\"cuda: 0\" if(torch.cuda.is_available() and ngpu >= 1) else \"cpu\")\n",
    "\n",
    "from tqdm import tqdm\n",
    "for i in tqdm(range(num_folds)): \n",
    "    try:\n",
    "        atn_lstm = attn_lstm(input_size, hidden_dim, num_layers, dropout).cuda()\n",
    "    except:\n",
    "        atn_lstm = attn_lstm(input_size, hidden_dim, num_layers, dropout).cuda()\n",
    "\n",
    "    optimizer = optim.Adam(atn_lstm.parameters())\n",
    "    criterion = nn.BCELoss()\n",
    "    \n",
    "    train_folds = []\n",
    "    \n",
    "    for j in range(num_folds): \n",
    "        if j != i:\n",
    "            train_folds.append(train_fold_loader[j])\n",
    "        else: \n",
    "            val_fold = train_fold_loader[j]\n",
    "    \n",
    "    #Training\n",
    "    atn_lstm.train()\n",
    "    print('++++++++++++++++++++++++++++++++++++++++')\n",
    "    print('Fold -> {}'.format(i))\n",
    "    for e in range(1, epoch+1):\n",
    "        total_error = 0\n",
    "        num = 0\n",
    "        np.random.shuffle(train_folds)\n",
    "        for fold in train_folds:\n",
    "            for batch in fold:\n",
    "                loss = train_model(batch)\n",
    "                total_error += loss\n",
    "                torch.cuda.empty_cache()\n",
    "            num += 1\n",
    "            torch.cuda.empty_cache()\n",
    "        avg_loss = total_error/(len(train_folds)*len(train_folds[0]))\n",
    "        avg_error.append(avg_loss)\n",
    "        print('\\tEpoch {}/5\\tAVG loss: {}\\tTotal loss:{}'.format(e, avg_loss, total_error))\n",
    "        torch.cuda.empty_cache()\n",
    "        avg_error.append(avg_loss)\n",
    "    #evaluation\n",
    "    atn_lstm.eval()\n",
    "    acc, f = validation(val_fold, test_loader, preds)\n",
    "    accuracy_fold.append(acc)\n",
    "    f1_fold.append(f)\n",
    "    torch.cuda.empty_cache()\n",
    "plot()"
   ]
  },
  {
   "cell_type": "code",
   "execution_count": 9,
   "metadata": {},
   "outputs": [],
   "source": [
    "temp = avg_error.copy()"
   ]
  },
  {
   "cell_type": "code",
   "execution_count": null,
   "metadata": {},
   "outputs": [],
   "source": []
  },
  {
   "cell_type": "code",
   "execution_count": 7,
   "metadata": {},
   "outputs": [
    {
     "data": {
      "image/png": "[encoded data removed]",
      "text/plain": [
       "<Figure size 432x288 with 1 Axes>"
      ]
     },
     "metadata": {
      "needs_background": "light"
     },
     "output_type": "display_data"
    }
   ],
   "source": [
    "start = 0\n",
    "end = 5\n",
    "for i in range(5):\n",
    "    plt.plot([i for i in range(1,6)], avg_error[start:end], label = 'Train w/o fold {}'.format(i+1))\n",
    "    start = end\n",
    "    end +=5\n",
    "plt.title('Avg error training for each fold Attention bilstm')\n",
    "plt.legend()\n",
    "plt.ylabel('Binary corss entropy')\n",
    "plt.xlabel('Epoch')\n",
    "plt.show()"
   ]
  },
  {
   "cell_type": "code",
   "execution_count": 8,
   "metadata": {},
   "outputs": [],
   "source": [
    "with open('results_attn_lstm.txt', mode = 'w') as f: \n",
    "    for key in preds.keys():\n",
    "        f.write(str(key))\n",
    "        for val in preds[key]:\n",
    "            f.write(' {}'.format(str(val)))\n",
    "        f.write('\\n')"
   ]
  },
  {
   "cell_type": "code",
   "execution_count": null,
   "metadata": {},
   "outputs": [],
   "source": [
    "predictions = {}\n",
    "for key in preds.keys(): \n",
    "    threshold = 0.6\n",
    "    temp = []\n",
    "    for val in preds[key]:\n",
    "        temp.append(val > threshold)\n",
    "    temp = sum(temp)\n",
    "    if temp > 1: \n",
    "        predictions[key] = 1\n",
    "    else:\n",
    "        predictions[key] = 0\n",
    "predictions = sorted(predictions.items())"
   ]
  },
  {
   "cell_type": "code",
   "execution_count": null,
   "metadata": {},
   "outputs": [],
   "source": [
    "predictions = [x[1] for x in predictions]\n",
    "qid = pd.read_csv('data/qid.csv')\n",
    "sub = {'qid':list(qid.qid), 'prediction':predictions}\n",
    "submission_ = pd.DataFrame.from_dict(sub)"
   ]
  },
  {
   "cell_type": "code",
   "execution_count": null,
   "metadata": {},
   "outputs": [],
   "source": [
    "actual = pd.read_csv('submission.csv')\n",
    "flagged = submission_[submission_.prediction == 1]\n",
    "act_flagged = actual[actual.prediction == 1]\n",
    "found = 0\n",
    "for i in act_flagged.index: \n",
    "    if submission_.prediction.iloc[i] == 1:\n",
    "        found += 1\n",
    "print(found)\n",
    "print(len(flagged))"
   ]
  },
  {
   "cell_type": "code",
   "execution_count": null,
   "metadata": {},
   "outputs": [],
   "source": [
    "with open('pred_attention_lstm.txt', mode = 'w') as f: \n",
    "    f.write('import pandas as pd \\n')\n",
    "    f.write('pred = [')\n",
    "    count = 0\n",
    "    written = 0\n",
    "    #replace data -> pd dataframe\n",
    "    for ind in submission_.index: \n",
    "        if count < 40:\n",
    "            if submission_.prediction.iloc[ind]:\n",
    "                f.write('{},'.format(1))\n",
    "            else: \n",
    "                f.write('{},'.format(0))\n",
    "            count += 1\n",
    "            written += 1\n",
    "        else: \n",
    "            f.write('\\n')\n",
    "            if submission_.prediction.iloc[ind]:\n",
    "                f.write('{},'.format(1))\n",
    "            else: \n",
    "                f.write('{},'.format(0))\n",
    "            count = 0\n",
    "            written += 1\n",
    "    f.write(']\\n')\n",
    "    f.write('test = pd.read_csv(\\'../input/test.csv\\').qid\\n')\n",
    "    f.write('sub = {\\'qid\\':[], \\'prediction\\':[]}\\n')\n",
    "\n",
    "    f.write('for i in range(len(pred)):\\n')\n",
    "    f.write('\\tsub[\\'qid\\'].append(test.iloc[i])\\n')\n",
    "    f.write('\\tsub[\\'prediction\\'].append(pred[i])\\n')\n",
    "    f.write('sub = pd.DataFrame.from_dict(sub)\\n')\n",
    "    f.write('sub.to_csv(\\'submission.csv\\', index=False)')"
   ]
  },
  {
   "cell_type": "code",
   "execution_count": null,
   "metadata": {},
   "outputs": [],
   "source": []
  }
 ],
 "metadata": {
  "kernelspec": {
   "display_name": "Python 3",
   "language": "python",
   "name": "python3"
  },
  "language_info": {
   "codemirror_mode": {
    "name": "ipython",
    "version": 3
   },
   "file_extension": ".py",
   "mimetype": "text/x-python",
   "name": "python",
   "nbconvert_exporter": "python",
   "pygments_lexer": "ipython3",
   "version": "3.6.7"
  }
 },
 "nbformat": 4,
 "nbformat_minor": 2
}
