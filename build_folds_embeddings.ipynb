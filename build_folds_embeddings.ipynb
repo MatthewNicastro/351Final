{
 "cells": [
  {
   "cell_type": "code",
   "execution_count": null,
   "metadata": {},
   "outputs": [],
   "source": [
    "import pandas as pd\n",
    "import numpy as np\n",
    "from sklearn.preprocessing import normalize\n",
    "from sklearn.utils import shuffle\n",
    "from sklearn.decomposition import PCA"
   ]
  },
  {
   "cell_type": "code",
   "execution_count": null,
   "metadata": {},
   "outputs": [],
   "source": [
    "glove = {}\n",
    "with open('embeddings/glove.txt', encoding = 'utf-8') as f: \n",
    "    for line in f: \n",
    "        temp = line.split()\n",
    "        glove[temp[0]] = np.array([float(i) for i in temp[1:]])"
   ]
  },
  {
   "cell_type": "code",
   "execution_count": null,
   "metadata": {},
   "outputs": [],
   "source": [
    "param = {}\n",
    "with open('embeddings/paragm.txt', encoding = 'latin') as f: \n",
    "    for line in f: \n",
    "        temp = line.split(' ')\n",
    "        key = temp[0]\n",
    "        line = temp[1:]\n",
    "        num = []\n",
    "        for i in line:\n",
    "            try:\n",
    "                num.append(float(i))\n",
    "            except:\n",
    "                print(i)\n",
    "                pass\n",
    "        assert len(num) == 300\n",
    "        param[key] = np.array(num)"
   ]
  },
  {
   "cell_type": "code",
   "execution_count": null,
   "metadata": {},
   "outputs": [],
   "source": [
    "master = {}\n",
    "for key in glove.keys():\n",
    "    if key in param.keys(): \n",
    "        master[key] = 0.7*normalize(glove[key].reshape(1,-1))[0] + 0.3*normalize(param[key].reshape(1,-1))[0]"
   ]
  },
  {
   "cell_type": "code",
   "execution_count": null,
   "metadata": {},
   "outputs": [],
   "source": [
    "with open('embeddings/master_v3.txt', mode = 'w', encoding = 'utf-8') as f:\n",
    "    for key in master:\n",
    "        f.write(key)\n",
    "        for num in master[key]:\n",
    "            f.write(' {}'.format(num))\n",
    "        f.write('\\n')"
   ]
  },
  {
   "cell_type": "code",
   "execution_count": null,
   "metadata": {},
   "outputs": [],
   "source": [
    "test = pd.read_csv('data/cleaned_v4/test_cleaned_v4.csv')\n",
    "train = pd.read_csv('data/cleaned_v4/train_cleaned_v4.csv')"
   ]
  },
  {
   "cell_type": "code",
   "execution_count": null,
   "metadata": {},
   "outputs": [],
   "source": [
    "folds = []\n",
    "for i in range(1,6): \n",
    "    folds.append(pd.read_csv('data/train_fold{}.csv'.format(i)))\n",
    "train = pd.concat(folds)"
   ]
  },
  {
   "cell_type": "code",
   "execution_count": null,
   "metadata": {},
   "outputs": [],
   "source": [
    "good = train[train.target == 0]\n",
    "bad = train[train.target == 1]\n",
    "g_val = good.sample(frac = 0.3)\n",
    "b_val = bad.sample(frac = 0.3)\n",
    "good = good.drop(g_val.index)\n",
    "bad = bad.drop(b_val.index)\n",
    "val = pd.concat(shuffle([g_val, b_val]))\n",
    "train = pd.concat(shuffle([good, bad]))\n",
    "train.to_csv('train.csv', index = False)\n",
    "val.to_csv('val.csv',index = False)"
   ]
  },
  {
   "cell_type": "code",
   "execution_count": null,
   "metadata": {},
   "outputs": [],
   "source": [
    "max_len = 70\n",
    "def chop(sent): \n",
    "    sent = sent.split(' ')\n",
    "    if len(sent) > max_len: \n",
    "        return ' '.join(sent)\n",
    "    return ' '.join(sent)\n",
    "test.question_text = test.question_text.apply(lambda x: chop(x))\n",
    "train.question_text = train.question_text.apply(lambda x: chop(x))"
   ]
  },
  {
   "cell_type": "code",
   "execution_count": null,
   "metadata": {},
   "outputs": [],
   "source": [
    "qid = test.qid\n",
    "test = test.drop(['qid'], axis = 1)"
   ]
  },
  {
   "cell_type": "code",
   "execution_count": null,
   "metadata": {},
   "outputs": [],
   "source": [
    "test.to_csv('test.csv')\n",
    "qid.to_csv('qid.csv')"
   ]
  },
  {
   "cell_type": "code",
   "execution_count": null,
   "metadata": {},
   "outputs": [],
   "source": [
    "good = train[train.target == 0].drop(['qid'],axis = 1)\n",
    "bad = train[train.target == 1].drop(['qid'],axis = 1)"
   ]
  },
  {
   "cell_type": "code",
   "execution_count": null,
   "metadata": {},
   "outputs": [],
   "source": [
    "def build_folds(good, bad, percent):\n",
    "    folds = []\n",
    "    for i in range(5):\n",
    "        if i == 0:\n",
    "            g = good.sample(frac= (percent*len(good)/len(good)))\n",
    "            b = bad.sample(frac= (percent*len(bad)/len(bad)))\n",
    "            amntg = len(g)\n",
    "            amntb = len(b)\n",
    "        else:\n",
    "            g = good.sample(frac= (amntg/len(good)))\n",
    "            b = bad.sample(frac= (amntb/len(bad)))\n",
    "        good = good.drop(g.index)\n",
    "        bad = bad.drop(b.index)\n",
    "        folds.append(shuffle(pd.concat([g, b])))\n",
    "        \n",
    "    for f in folds:\n",
    "        print(len(f))\n",
    "    count = 1\n",
    "    for fold in folds: \n",
    "        fold.to_csv('train_fold_5_{}.csv'.format(count), index = False)\n",
    "        count+=1"
   ]
  },
  {
   "cell_type": "code",
   "execution_count": null,
   "metadata": {},
   "outputs": [],
   "source": []
  }
 ],
 "metadata": {
  "kernelspec": {
   "display_name": "Python 3",
   "language": "python",
   "name": "python3"
  },
  "language_info": {
   "codemirror_mode": {
    "name": "ipython",
    "version": 3
   },
   "file_extension": ".py",
   "mimetype": "text/x-python",
   "name": "python",
   "nbconvert_exporter": "python",
   "pygments_lexer": "ipython3",
   "version": "3.7.0"
  }
 },
 "nbformat": 4,
 "nbformat_minor": 2
}
