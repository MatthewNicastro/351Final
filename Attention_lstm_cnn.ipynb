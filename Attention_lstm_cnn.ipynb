{
 "cells": [
  {
   "cell_type": "code",
   "execution_count": 1,
   "metadata": {},
   "outputs": [],
   "source": [
    "import torch\n",
    "import torch.nn.functional as F\n",
    "import torch.optim as optim\n",
    "import torch.nn as nn\n",
    "import numpy as np\n",
    "import torchtext\n",
    "from torchtext.data import Iterator, BucketIterator\n",
    "from torchvision import transforms, utils\n",
    "import matplotlib.pyplot as plt \n",
    "from sklearn.metrics import confusion_matrix as cm\n",
    "from sklearn.metrics import f1_score as f1\n",
    "import pandas as pd\n",
    "import seaborn as sns"
   ]
  },
  {
   "cell_type": "code",
   "execution_count": 2,
   "metadata": {},
   "outputs": [],
   "source": [
    "batch_size = 300\n",
    "num_folds = 5\n",
    "\n",
    "def split_text(text):\n",
    "    return text.split(' ')\n",
    "\n",
    "def prepare_sequences():\n",
    "    tokenizer = split_text # the function above is the function we will be using to tokenize the text\n",
    "    TEXT = torchtext.data.ReversibleField(sequential=True, tokenize=tokenizer, lower=True)\n",
    "    LABEL = torchtext.data.Field(sequential=False, use_vocab=False) # sequential and use_vocab=False since no text (binary)\n",
    "    QID = torchtext.data.Field(sequential=False, use_vocab=False)\n",
    "    \n",
    "    train_datafields = [(\"question_text\", TEXT), (\"target\", LABEL)]\n",
    "    fold_names = ['train_fold{}.csv'.format(i) for i in range(1,num_folds+1)]\n",
    "    train_folds = []\n",
    "    for fold in fold_names:\n",
    "        train_folds.append(torchtext.data.TabularDataset( \n",
    "                # If we had a validation set as well, we would add an additional .splits(...)\n",
    "                path=fold, # the root directory where the data lies\n",
    "                format='csv',\n",
    "                # if your csv header has a header, make sure to pass this to ensure it doesn't get proceesed as data!\n",
    "                skip_header=True, \n",
    "                fields=train_datafields\n",
    "                )\n",
    "            )\n",
    "    test_datafields = [('qid', QID),(\"question_text\", TEXT)]\n",
    "    test = torchtext.data.TabularDataset( \n",
    "                    path='test.csv',\n",
    "                    format=\"csv\",\n",
    "                    skip_header=True,\n",
    "                    fields=test_datafields\n",
    "                    )\n",
    "    return TEXT, LABEL, train_folds, test\n",
    "\n",
    "TEXT, LABEL, train, test = prepare_sequences()\n",
    "vec = torchtext.vocab.Vectors('master_v2.txt')\n",
    "TEXT.build_vocab(*train,test, vectors=vec)\n",
    "\n",
    "emb_vecs = TEXT.vocab.vectors\n",
    "for i in range(len(emb_vecs)):\n",
    "    if len(emb_vecs[i, : ].nonzero()) == 0:\n",
    "        # std = 0.05 is based on the norm of average GloVE 100-dim word vectors\n",
    "        torch.nn.init.normal_(emb_vecs[i], mean=0, std=0.05)\n",
    "       \n",
    "train_fold_loader = []\n",
    "for fold in train:\n",
    "    train_fold_loader.append(BucketIterator(\n",
    "         fold, # we pass in the datasets we want the iterator to draw data from\n",
    "         batch_size=batch_size,\n",
    "         shuffle = True,\n",
    "         sort_key=lambda x: len(x.question_text), # the BucketIterator needs to be told what function it should use to group the data.\n",
    "         sort_within_batch=False, # sorting would add bias\n",
    "         repeat=False \n",
    "        )\n",
    "    )\n",
    "test_loader = BucketIterator(\n",
    "         test, # we pass in the datasets we want the iterator to draw data from\n",
    "         batch_size=batch_size,\n",
    "         sort_key=lambda x: len(x.question_text), # the BucketIterator needs to be told what function it should use to group the data.\n",
    "         sort_within_batch=False, # sorting would add bias\n",
    "         repeat=False \n",
    "        )"
   ]
  },
  {
   "cell_type": "code",
   "execution_count": 22,
   "metadata": {},
   "outputs": [],
   "source": [
    "def validation(loader, test_set, predictions):\n",
    "    accuracy = 0\n",
    "    num_batches = 0\n",
    "    act = np.array([])\n",
    "    pred = np.array([])\n",
    "    with torch.no_grad():\n",
    "        for batch in loader:\n",
    "            gpu = batch.question_text.to(device).long()\n",
    "            preds = Attn_bid_lstm_cnn(gpu)\n",
    "            target = batch.target.numpy()\n",
    "            preds = preds.cpu().detach().numpy()\n",
    "            preds = preds >= 0.5\n",
    "            preds = preds.flatten()\n",
    "            total_correct = sum(target == preds)\n",
    "\n",
    "            act = np.concatenate((act, target))\n",
    "            pred = np.concatenate((pred, preds))\n",
    "\n",
    "            accuracy += total_correct\n",
    "            num_batches += 1\n",
    "            torch.cuda.empty_cache()\n",
    "            del gpu, target, preds\n",
    "        count = 0\n",
    "        for batch in test_set:\n",
    "            qid = batch.qid\n",
    "            question = batch.question_text.to(device).long()\n",
    "            preds = Attn_bid_lstm_cnn(question)\n",
    "            preds = preds.cpu().detach().numpy()\n",
    "            for idx, ID in enumerate(qid):\n",
    "                predictions[ID.item()].append(preds[idx])\n",
    "            torch.cuda.empty_cache()\n",
    "            del qid, question, preds\n",
    "            count+=1\n",
    "    acc = accuracy / (num_batches * batch_size)\n",
    "    print('Accuracy ->',acc)\n",
    "    formula1 = f1(act, pred)\n",
    "    print('f1 ->',formula1)\n",
    "    tn,fp,fn,tp = cm(act, pred).ravel()\n",
    "    print('True positives -> {}\\nFalse positives -> {}\\nTrue negatives -> {}\\nFalse negatives -> {}\\n'.format(tp,fp,tn,fn))\n",
    "    return acc, formula1\n",
    "\n",
    "def plot():\n",
    "    plt.scatter([i for i in range(len(accuracy_fold))], f1_fold, label = 'F1 Training set')\n",
    "    a = 0\n",
    "    for r in f1_fold:\n",
    "        a += r\n",
    "    a /= len(f1_fold)\n",
    "    plt.plot([i for i in range(len(accuracy_fold))], [a for i in range(len(accuracy_fold))], label = 'Avg fold f1 = {0:.3f}'.format(float(a)))\n",
    "    plt.legend()\n",
    "    plt.title('5 Fold Cross-validation F1 score Attention bilstm cnn')\n",
    "    plt.xlabel('Fold held out')\n",
    "    plt.ylabel('F1 Score')\n",
    "    plt.show()\n",
    "\n",
    "def train_model(batch):\n",
    "    Attn_bid_lstm_cnn.zero_grad()\n",
    "    optimizer.zero_grad()\n",
    "    loss = 0\n",
    "    \n",
    "    gpu = batch.question_text.to(device).long()\n",
    "    target = batch.target.to(device).to(device).float()\n",
    "\n",
    "    predicted = Attn_bid_lstm_cnn(gpu).view(-1)\n",
    "    loss = criterion(predicted, target)\n",
    "    loss.backward()\n",
    "    optimizer.step()\n",
    "    return loss.item()"
   ]
  },
  {
   "cell_type": "code",
   "execution_count": 4,
   "metadata": {},
   "outputs": [],
   "source": [
    "class Attention(nn.Module):\n",
    "    def __init__(self, batch_size, size):\n",
    "        super(Attention, self).__init__()\n",
    "        self.word_weight = nn.Linear(size, size)\n",
    "        self.tanh = nn.Tanh()\n",
    "        self.context_weight = nn.Linear(size, 1, bias = False)\n",
    "        self.softmax = nn.Softmax(dim = 1)\n",
    "    \n",
    "    def forward(self, inpt):\n",
    "        inpt = inpt.permute(1,0,2)\n",
    "        a = self.word_weight(inpt)\n",
    "        a = self.tanh(a)\n",
    "        a = self.context_weight(a)\n",
    "        a = self.tanh(a)\n",
    "        a = self.softmax(a)\n",
    "        inpt = inpt * a\n",
    "        return torch.sum(inpt, 1)"
   ]
  },
  {
   "cell_type": "code",
   "execution_count": 9,
   "metadata": {},
   "outputs": [],
   "source": [
    "class bidirec_lstm_cnn_attn(nn.Module): \n",
    "    def __init__(self, \n",
    "                 input_size, #size of in vector\n",
    "                 hidden_size,\n",
    "                 num_layers,\n",
    "                 num_channels, #num channels\n",
    "                 kernel_size, #size of kernel\n",
    "                 pool_size, #size of max pooling kernel\n",
    "                 dropout\n",
    "                 ):\n",
    "        super(bidirec_lstm_cnn_attn, self).__init__()\n",
    "        self.input_size = input_size\n",
    "        self.hidden_size = hidden_size\n",
    "        self.num_layers = num_layers\n",
    "        self.num_channels = num_channels\n",
    "        self.kernel_size = kernel_size\n",
    "        self.pool_size = pool_size\n",
    "        self.dropout = dropout\n",
    "        \n",
    "        self.emb = nn.Embedding(len(TEXT.vocab), self.input_size)\n",
    "        self.emb.weight = nn.Parameter(TEXT.vocab.vectors)\n",
    "        \n",
    "        self.emb_dropout = nn.Dropout2d(dropout)\n",
    "        self.lstm = nn.LSTM(self.input_size, \n",
    "                            self.hidden_size, \n",
    "                            num_layers = self.num_layers,\n",
    "                            dropout = self.dropout,\n",
    "                            bidirectional = True)\n",
    "        self.attention = Attention(batch_size, self.hidden_size * 2)\n",
    "        self.conv = nn.Conv1d(1, \n",
    "                              num_channels,\n",
    "                              kernel_size)\n",
    "        self.batch_norm = nn.BatchNorm1d(self.num_channels)\n",
    "        self.pool = nn.MaxPool1d(pool_size)\n",
    "        self.relu = nn.LeakyReLU()\n",
    "        # 2 for bi direction\n",
    "        self.output_size = 2*(self.hidden_size - self.kernel_size)/self.pool_size\n",
    "        self.output_size = int(self.output_size*self.num_channels+2)\n",
    "        self.layer = nn.Linear(self.output_size, 1)\n",
    "        self.sig = nn.Sigmoid()\n",
    "    \n",
    "    def forward(self, inpt):\n",
    "        \n",
    "        #bid lstm layer\n",
    "        inpt = self.emb(inpt)\n",
    "        inpt = self.emb_dropout(inpt)\n",
    "        batch_size = inpt.shape[1]\n",
    "        inpt,_ = self.lstm(inpt)\n",
    "        inpt = self.attention(inpt)\n",
    "        inpt = inpt.unsqueeze(0)\n",
    "        inpt = inpt.permute(1,0,2)\n",
    "        #1D convolutional layer\n",
    "        inpt = self.conv(inpt)\n",
    "        inpt = self.relu(inpt)\n",
    "        inpt = self.batch_norm(inpt)\n",
    "        inpt = inpt.view(batch_size,-1)\n",
    "        temp = inpt.size()[1]\n",
    "        inpt = inpt.view(batch_size, 1,temp)\n",
    "        inpt = self.pool(inpt)\n",
    "        inpt = inpt.view(batch_size, -1)\n",
    "        inpt = self.layer(inpt)\n",
    "        inpt = self.sig(inpt)\n",
    "        return inpt"
   ]
  },
  {
   "cell_type": "code",
   "execution_count": 10,
   "metadata": {
    "scrolled": true
   },
   "outputs": [
    {
     "name": "stderr",
     "output_type": "stream",
     "text": [
      "\r",
      "  0%|          | 0/5 [00:00<?, ?it/s]"
     ]
    },
    {
     "name": "stdout",
     "output_type": "stream",
     "text": [
      "++++++++++++++++++++++++++++++++++++++++\n",
      "Fold -> 0\n",
      "\tEpoch 1/5\tAVG loss: 0.11794773057684833\tTotal loss:410.92989332973957\n",
      "\tEpoch 2/5\tAVG loss: 0.0976183981753364\tTotal loss:340.102499242872\n",
      "\tEpoch 3/5\tAVG loss: 0.08368570165736462\tTotal loss:291.5609845742583\n",
      "\tEpoch 4/5\tAVG loss: 0.06993554399458929\tTotal loss:243.65543527714908\n",
      "\tEpoch 5/5\tAVG loss: 0.059658052480483406\tTotal loss:207.84865484200418\n",
      "Accuracy -> 0.9550057405281286\n",
      "f1 -> 0.6155162766202561\n"
     ]
    },
    {
     "name": "stderr",
     "output_type": "stream",
     "text": [
      "\r",
      " 20%|██        | 1/5 [42:33<2:50:12, 2553.20s/it]"
     ]
    },
    {
     "name": "stdout",
     "output_type": "stream",
     "text": [
      "True positives -> 9350\n",
      "False positives -> 4869\n",
      "True negatives -> 240193\n",
      "False negatives -> 6812\n",
      "\n",
      "++++++++++++++++++++++++++++++++++++++++\n",
      "Fold -> 1\n",
      "\tEpoch 1/5\tAVG loss: 0.11780703107342039\tTotal loss:410.4396962597966\n",
      "\tEpoch 2/5\tAVG loss: 0.0979396041544704\tTotal loss:341.22158087417483\n",
      "\tEpoch 3/5\tAVG loss: 0.08341949008807249\tTotal loss:290.63350346684456\n",
      "\tEpoch 4/5\tAVG loss: 0.07004824840334317\tTotal loss:244.04809743724763\n",
      "\tEpoch 5/5\tAVG loss: 0.06021426848524029\tTotal loss:209.78651140257716\n",
      "Accuracy -> 0.9544508228090318\n",
      "f1 -> 0.6294416243654821\n"
     ]
    },
    {
     "name": "stderr",
     "output_type": "stream",
     "text": [
      "\r",
      " 40%|████      | 2/5 [1:23:14<2:05:58, 2519.50s/it]"
     ]
    },
    {
     "name": "stdout",
     "output_type": "stream",
     "text": [
      "True positives -> 10044\n",
      "False positives -> 5708\n",
      "True negatives -> 239354\n",
      "False negatives -> 6118\n",
      "\n",
      "++++++++++++++++++++++++++++++++++++++++\n",
      "Fold -> 2\n",
      "\tEpoch 1/5\tAVG loss: 0.11707947371970225\tTotal loss:407.90488643944263\n",
      "\tEpoch 2/5\tAVG loss: 0.09749163120202335\tTotal loss:339.66084310784936\n",
      "\tEpoch 3/5\tAVG loss: 0.08338282359913676\tTotal loss:290.50575741939247\n",
      "\tEpoch 4/5\tAVG loss: 0.06979359526306939\tTotal loss:243.16088589653373\n",
      "\tEpoch 5/5\tAVG loss: 0.06022861272569245\tTotal loss:209.8364867363125\n",
      "Accuracy -> 0.9533830845771144\n",
      "f1 -> 0.6348526439624746\n"
     ]
    },
    {
     "name": "stderr",
     "output_type": "stream",
     "text": [
      "\r",
      " 60%|██████    | 3/5 [2:05:56<1:24:24, 2532.33s/it]"
     ]
    },
    {
     "name": "stdout",
     "output_type": "stream",
     "text": [
      "True positives -> 10523\n",
      "False positives -> 6466\n",
      "True negatives -> 238596\n",
      "False negatives -> 5639\n",
      "\n",
      "++++++++++++++++++++++++++++++++++++++++\n",
      "Fold -> 3\n",
      "\tEpoch 1/5\tAVG loss: 0.11803852446189088\tTotal loss:411.24621922522783\n",
      "\tEpoch 2/5\tAVG loss: 0.09786064156901035\tTotal loss:340.9464752264321\n",
      "\tEpoch 3/5\tAVG loss: 0.08324990707613211\tTotal loss:290.0426762532443\n",
      "\tEpoch 4/5\tAVG loss: 0.07052120135724972\tTotal loss:245.69586552865803\n",
      "\tEpoch 5/5\tAVG loss: 0.06005347877191262\tTotal loss:209.22632004134357\n",
      "Accuracy -> 0.9549751243781095\n",
      "f1 -> 0.6173437653452059\n"
     ]
    },
    {
     "name": "stderr",
     "output_type": "stream",
     "text": [
      "\r",
      " 80%|████████  | 4/5 [2:46:36<41:44, 2504.68s/it]  "
     ]
    },
    {
     "name": "stdout",
     "output_type": "stream",
     "text": [
      "True positives -> 9429\n",
      "False positives -> 4956\n",
      "True negatives -> 240106\n",
      "False negatives -> 6733\n",
      "\n",
      "++++++++++++++++++++++++++++++++++++++++\n",
      "Fold -> 4\n",
      "\tEpoch 1/5\tAVG loss: 0.11838787903818895\tTotal loss:412.4633705690503\n",
      "\tEpoch 2/5\tAVG loss: 0.09841450514436521\tTotal loss:342.8761359229684\n",
      "\tEpoch 3/5\tAVG loss: 0.08448203286021332\tTotal loss:294.3354024849832\n",
      "\tEpoch 4/5\tAVG loss: 0.07141782675819508\tTotal loss:248.81970842555165\n",
      "\tEpoch 5/5\tAVG loss: 0.06066601723993901\tTotal loss:211.3604040639475\n",
      "Accuracy -> 0.9559242250287027\n",
      "f1 -> 0.6286956803946386\n"
     ]
    },
    {
     "name": "stderr",
     "output_type": "stream",
     "text": [
      "\r",
      "100%|██████████| 5/5 [3:29:27<00:00, 2524.72s/it]"
     ]
    },
    {
     "name": "stdout",
     "output_type": "stream",
     "text": [
      "True positives -> 9686\n",
      "False positives -> 4965\n",
      "True negatives -> 240097\n",
      "False negatives -> 6476\n",
      "\n"
     ]
    },
    {
     "name": "stderr",
     "output_type": "stream",
     "text": [
      "\n"
     ]
    },
    {
     "data": {
      "image/png": "[encoded data removed]",
      "text/plain": [
       "<Figure size 432x288 with 1 Axes>"
      ]
     },
     "metadata": {
      "needs_background": "light"
     },
     "output_type": "display_data"
    }
   ],
   "source": [
    "verbose = 100\n",
    "\n",
    "#Model parameters\n",
    "input_size = 300\n",
    "hidden_dim = 300\n",
    "num_layers = 2\n",
    "num_channels = 70\n",
    "kernel_size = 1\n",
    "pool_size = 100\n",
    "dropout = 0.1\n",
    "\n",
    "epoch = 5\n",
    "\n",
    "#Evaluation metrics for model\n",
    "accuracy_fold = []\n",
    "f1_fold = []\n",
    "avg_error = []\n",
    "preds = {i:[] for i in range(375806)}\n",
    "\n",
    "ngpu = 1\n",
    "device = torch.device(\"cuda: 0\" if(torch.cuda.is_available() and ngpu >= 1) else \"cpu\")\n",
    "\n",
    "from tqdm import tqdm\n",
    "for i in tqdm(range(num_folds)): \n",
    "    try:\n",
    "        Attn_bid_lstm_cnn = bidirec_lstm_cnn_attn(input_size, hidden_dim, num_layers, num_channels, kernel_size, pool_size, dropout).cuda()\n",
    "    except:\n",
    "        Attn_bid_lstm_cnn = bidirec_lstm_cnn_attn(input_size, hidden_dim, num_layers, num_channels, kernel_size, pool_size, dropout).cuda()\n",
    "\n",
    "    optimizer = optim.Adam(Attn_bid_lstm_cnn.parameters())\n",
    "    criterion = nn.BCELoss()\n",
    "    \n",
    "    train_folds = []\n",
    "    \n",
    "    for j in range(num_folds): \n",
    "        if j != i:\n",
    "            train_folds.append(train_fold_loader[j])\n",
    "        else: \n",
    "            val_fold = train_fold_loader[j]\n",
    "    Attn_bid_lstm_cnn.train()\n",
    "    print('++++++++++++++++++++++++++++++++++++++++')\n",
    "    print('Fold -> {}'.format(i))\n",
    "    for e in range(1, epoch+1):\n",
    "        total_error = 0\n",
    "        num = 0\n",
    "        np.random.shuffle(train_folds)\n",
    "        for fold in train_folds:\n",
    "            for batch in fold:\n",
    "                loss = train_model(batch)\n",
    "                total_error += loss\n",
    "                torch.cuda.empty_cache()\n",
    "            num += 1\n",
    "            torch.cuda.empty_cache()\n",
    "        avg_loss = total_error/(len(train_folds)*len(train_folds[0]))\n",
    "        print('\\tEpoch {}/5\\tAVG loss: {}\\tTotal loss:{}'.format(e, avg_loss, total_error))\n",
    "        torch.cuda.empty_cache()\n",
    "        avg_error.append(avg_loss)\n",
    "    Attn_bid_lstm_cnn.eval()\n",
    "    acc, f = validation(val_fold, test_loader, preds)\n",
    "    accuracy_fold.append(acc)\n",
    "    f1_fold.append(f)\n",
    "    torch.cuda.empty_cache()\n",
    "plot()"
   ]
  },
  {
   "cell_type": "code",
   "execution_count": 23,
   "metadata": {},
   "outputs": [
    {
     "data": {
      "image/png": "[encoded data removed]",
      "text/plain": [
       "<Figure size 432x288 with 1 Axes>"
      ]
     },
     "metadata": {
      "needs_background": "light"
     },
     "output_type": "display_data"
    }
   ],
   "source": [
    "torch.sa"
   ]
  },
  {
   "cell_type": "code",
   "execution_count": 13,
   "metadata": {},
   "outputs": [
    {
     "data": {
      "image/png": "[encoded data removed]",
      "text/plain": [
       "<Figure size 432x288 with 1 Axes>"
      ]
     },
     "metadata": {
      "needs_background": "light"
     },
     "output_type": "display_data"
    }
   ],
   "source": [
    "start = 0\n",
    "end = 5\n",
    "for i in range(5):\n",
    "    plt.plot([i for i in range(1,6)], avg_error[start:end], label = 'Train w/o fold {}'.format(i+1))\n",
    "    start = end\n",
    "    end+=5\n",
    "plt.title('Avg error training for each fold Attention bilstm cnn')\n",
    "plt.legend()\n",
    "plt.ylabel('Binary corss entropy')\n",
    "plt.xlabel('Epoch')\n",
    "plt.show()"
   ]
  },
  {
   "cell_type": "code",
   "execution_count": 24,
   "metadata": {},
   "outputs": [],
   "source": [
    "with open('result_bilstm_cnn_attention.txt', mode = 'w') as f: \n",
    "    for key in preds.keys():\n",
    "        f.write(str(key))\n",
    "        for val in preds[key]:\n",
    "            f.write(' {}'.format(str(val)))\n",
    "        f.write('\\n')"
   ]
  },
  {
   "cell_type": "code",
   "execution_count": null,
   "metadata": {},
   "outputs": [],
   "source": [
    "predictions = {}\n",
    "for key in preds.keys(): \n",
    "    threshold = 0.4\n",
    "    temp = []\n",
    "    for val in preds[key]:\n",
    "        temp.append(val > threshold)\n",
    "    temp = sum(temp)\n",
    "    if temp > 1: \n",
    "        predictions[key] = 1\n",
    "    else:\n",
    "        predictions[key] = 0\n",
    "predictions = sorted(predictions.items())"
   ]
  },
  {
   "cell_type": "code",
   "execution_count": null,
   "metadata": {},
   "outputs": [],
   "source": [
    "predictions = [x[1] for x in predictions]\n",
    "qid = pd.read_csv('qid.csv')\n",
    "sub = {'qid':list(qid.qid), 'prediction':predictions}\n",
    "submission_ = pd.DataFrame.from_dict(sub)"
   ]
  },
  {
   "cell_type": "code",
   "execution_count": null,
   "metadata": {},
   "outputs": [],
   "source": [
    "actual = pd.read_csv('submission.csv')\n",
    "flagged = submission_[submission_.prediction == 1]\n",
    "act_flagged = actual[actual.prediction == 1]\n",
    "found = 0\n",
    "for i in act_flagged.index: \n",
    "    if submission_.prediction.iloc[i] == 1:\n",
    "        found += 1\n",
    "print(found)\n",
    "print(len(flagged))"
   ]
  },
  {
   "cell_type": "code",
   "execution_count": null,
   "metadata": {},
   "outputs": [],
   "source": [
    "with open('preds_attn_lstm_cnn_0134.txt', mode = 'w') as f: \n",
    "    f.write('import pandas as pd \\n')\n",
    "    f.write('pred = [')\n",
    "    count = 0\n",
    "    written = 0\n",
    "    #replace data -> pd dataframe\n",
    "    for ind in submission_.index: \n",
    "        if count < 40:\n",
    "            if submission_.prediction.iloc[ind]:\n",
    "                f.write('{},'.format(1))\n",
    "            else: \n",
    "                f.write('{},'.format(0))\n",
    "            count += 1\n",
    "            written += 1\n",
    "        else: \n",
    "            f.write('\\n')\n",
    "            if submission_.prediction.iloc[ind]:\n",
    "                f.write('{},'.format(1))\n",
    "            else: \n",
    "                f.write('{},'.format(0))\n",
    "            count = 0\n",
    "            written += 1\n",
    "    f.write(']\\n')\n",
    "    f.write('test = pd.read_csv(\\'../input/test.csv\\').qid\\n')\n",
    "    f.write('sub = {\\'qid\\':[], \\'prediction\\':[]}\\n')\n",
    "\n",
    "    f.write('for i in range(len(pred)):\\n')\n",
    "    f.write('\\tsub[\\'qid\\'].append(test.iloc[i])\\n')\n",
    "    f.write('\\tsub[\\'prediction\\'].append(pred[i])\\n')\n",
    "    f.write('sub = pd.DataFrame.from_dict(sub)\\n')\n",
    "    f.write('sub.to_csv(\\'submission.csv\\', index=False)')"
   ]
  },
  {
   "cell_type": "code",
   "execution_count": null,
   "metadata": {},
   "outputs": [],
   "source": []
  }
 ],
 "metadata": {
  "kernelspec": {
   "display_name": "Python 3",
   "language": "python",
   "name": "python3"
  },
  "language_info": {
   "codemirror_mode": {
    "name": "ipython",
    "version": 3
   },
   "file_extension": ".py",
   "mimetype": "text/x-python",
   "name": "python",
   "nbconvert_exporter": "python",
   "pygments_lexer": "ipython3",
   "version": "3.7.0"
  }
 },
 "nbformat": 4,
 "nbformat_minor": 2
}
